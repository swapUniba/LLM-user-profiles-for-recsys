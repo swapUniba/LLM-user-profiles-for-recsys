{
  "nbformat": 4,
  "nbformat_minor": 0,
  "metadata": {
    "colab": {
      "provenance": []
    },
    "kernelspec": {
      "name": "python3",
      "display_name": "Python 3"
    },
    "language_info": {
      "name": "python"
    }
  },
  "cells": [
    {
      "cell_type": "code",
      "source": [
        "!pip install sentence_transformers"
      ],
      "metadata": {
        "colab": {
          "base_uri": "https://localhost:8080/"
        },
        "id": "SmoZosDFhz35",
        "outputId": "8f4cb892-3850-4c62-e290-ec1234929995"
      },
      "execution_count": 2,
      "outputs": [
        {
          "output_type": "stream",
          "name": "stdout",
          "text": [
            "Collecting sentence_transformers\n",
            "  Downloading sentence_transformers-3.1.0-py3-none-any.whl.metadata (23 kB)\n",
            "Requirement already satisfied: transformers<5.0.0,>=4.38.0 in /usr/local/lib/python3.10/dist-packages (from sentence_transformers) (4.44.2)\n",
            "Requirement already satisfied: tqdm in /usr/local/lib/python3.10/dist-packages (from sentence_transformers) (4.66.5)\n",
            "Requirement already satisfied: torch>=1.11.0 in /usr/local/lib/python3.10/dist-packages (from sentence_transformers) (2.4.0+cu121)\n",
            "Requirement already satisfied: numpy<2.0.0 in /usr/local/lib/python3.10/dist-packages (from sentence_transformers) (1.26.4)\n",
            "Requirement already satisfied: scikit-learn in /usr/local/lib/python3.10/dist-packages (from sentence_transformers) (1.3.2)\n",
            "Requirement already satisfied: scipy in /usr/local/lib/python3.10/dist-packages (from sentence_transformers) (1.13.1)\n",
            "Requirement already satisfied: huggingface-hub>=0.19.3 in /usr/local/lib/python3.10/dist-packages (from sentence_transformers) (0.24.6)\n",
            "Requirement already satisfied: Pillow in /usr/local/lib/python3.10/dist-packages (from sentence_transformers) (9.4.0)\n",
            "Requirement already satisfied: filelock in /usr/local/lib/python3.10/dist-packages (from huggingface-hub>=0.19.3->sentence_transformers) (3.15.4)\n",
            "Requirement already satisfied: fsspec>=2023.5.0 in /usr/local/lib/python3.10/dist-packages (from huggingface-hub>=0.19.3->sentence_transformers) (2024.6.1)\n",
            "Requirement already satisfied: packaging>=20.9 in /usr/local/lib/python3.10/dist-packages (from huggingface-hub>=0.19.3->sentence_transformers) (24.1)\n",
            "Requirement already satisfied: pyyaml>=5.1 in /usr/local/lib/python3.10/dist-packages (from huggingface-hub>=0.19.3->sentence_transformers) (6.0.2)\n",
            "Requirement already satisfied: requests in /usr/local/lib/python3.10/dist-packages (from huggingface-hub>=0.19.3->sentence_transformers) (2.32.3)\n",
            "Requirement already satisfied: typing-extensions>=3.7.4.3 in /usr/local/lib/python3.10/dist-packages (from huggingface-hub>=0.19.3->sentence_transformers) (4.12.2)\n",
            "Requirement already satisfied: sympy in /usr/local/lib/python3.10/dist-packages (from torch>=1.11.0->sentence_transformers) (1.13.2)\n",
            "Requirement already satisfied: networkx in /usr/local/lib/python3.10/dist-packages (from torch>=1.11.0->sentence_transformers) (3.3)\n",
            "Requirement already satisfied: jinja2 in /usr/local/lib/python3.10/dist-packages (from torch>=1.11.0->sentence_transformers) (3.1.4)\n",
            "Requirement already satisfied: regex!=2019.12.17 in /usr/local/lib/python3.10/dist-packages (from transformers<5.0.0,>=4.38.0->sentence_transformers) (2024.5.15)\n",
            "Requirement already satisfied: safetensors>=0.4.1 in /usr/local/lib/python3.10/dist-packages (from transformers<5.0.0,>=4.38.0->sentence_transformers) (0.4.4)\n",
            "Requirement already satisfied: tokenizers<0.20,>=0.19 in /usr/local/lib/python3.10/dist-packages (from transformers<5.0.0,>=4.38.0->sentence_transformers) (0.19.1)\n",
            "Requirement already satisfied: joblib>=1.1.1 in /usr/local/lib/python3.10/dist-packages (from scikit-learn->sentence_transformers) (1.4.2)\n",
            "Requirement already satisfied: threadpoolctl>=2.0.0 in /usr/local/lib/python3.10/dist-packages (from scikit-learn->sentence_transformers) (3.5.0)\n",
            "Requirement already satisfied: MarkupSafe>=2.0 in /usr/local/lib/python3.10/dist-packages (from jinja2->torch>=1.11.0->sentence_transformers) (2.1.5)\n",
            "Requirement already satisfied: charset-normalizer<4,>=2 in /usr/local/lib/python3.10/dist-packages (from requests->huggingface-hub>=0.19.3->sentence_transformers) (3.3.2)\n",
            "Requirement already satisfied: idna<4,>=2.5 in /usr/local/lib/python3.10/dist-packages (from requests->huggingface-hub>=0.19.3->sentence_transformers) (3.8)\n",
            "Requirement already satisfied: urllib3<3,>=1.21.1 in /usr/local/lib/python3.10/dist-packages (from requests->huggingface-hub>=0.19.3->sentence_transformers) (2.0.7)\n",
            "Requirement already satisfied: certifi>=2017.4.17 in /usr/local/lib/python3.10/dist-packages (from requests->huggingface-hub>=0.19.3->sentence_transformers) (2024.8.30)\n",
            "Requirement already satisfied: mpmath<1.4,>=1.1.0 in /usr/local/lib/python3.10/dist-packages (from sympy->torch>=1.11.0->sentence_transformers) (1.3.0)\n",
            "Downloading sentence_transformers-3.1.0-py3-none-any.whl (249 kB)\n",
            "\u001b[2K   \u001b[90m━━━━━━━━━━━━━━━━━━━━━━━━━━━━━━━━━━━━━━━━\u001b[0m \u001b[32m249.1/249.1 kB\u001b[0m \u001b[31m5.3 MB/s\u001b[0m eta \u001b[36m0:00:00\u001b[0m\n",
            "\u001b[?25hInstalling collected packages: sentence_transformers\n",
            "Successfully installed sentence_transformers-3.1.0\n"
          ]
        }
      ]
    },
    {
      "cell_type": "code",
      "execution_count": 3,
      "metadata": {
        "colab": {
          "base_uri": "https://localhost:8080/"
        },
        "id": "HtROMsyRg9J8",
        "outputId": "7d2b46a6-2cab-4635-f36b-1f348d50ac42"
      },
      "outputs": [
        {
          "output_type": "stream",
          "name": "stderr",
          "text": [
            "/usr/local/lib/python3.10/dist-packages/sentence_transformers/cross_encoder/CrossEncoder.py:13: TqdmExperimentalWarning: Using `tqdm.autonotebook.tqdm` in notebook mode. Use `tqdm.tqdm` instead to force console mode (e.g. in jupyter console)\n",
            "  from tqdm.autonotebook import tqdm, trange\n"
          ]
        }
      ],
      "source": [
        "import pandas as pd\n",
        "import numpy as np\n",
        "from sentence_transformers import SentenceTransformer\n",
        "import pickle\n"
      ]
    },
    {
      "cell_type": "code",
      "source": [
        "# esempio\n",
        "profilo = \"The user's favourite genre is likely to be drama, as many of the movies listed fall under this category. However, the user also has a wide range of preferences, including science fiction, fantasy, historical drama, musical, horror, and comedy, so it's difficult to pinpoint a specific genre as their favourite.\\n\\n2. The user's favourite kind of plot is likely to be complex and multi-layered, as many of the movies listed have intricate storylines and explore deep themes. The user seems to enjoy stories that are both entertaining and thought-provoking.\\n\\n3. The user's favourite kind of musical score is likely to be emotional and impactful, as many of the movies listed have memorable soundtracks that enhance the viewing experience. The user may prefer scores that are both orchestral and contemporary in style.\\n\\n4. The user's favourite mood for the musical score is likely to be uplifting and inspiring, as many of the movies listed have scores that evoke feelings of hope and optimism. The user may also enjoy scores that are melancholic and reflective, as these emotions are often present in dramas and historical pieces.\\n\\n5. The user's favourite setting is likely to be a combination of both contemporary and historical settings, as many of the movies listed take place in different time periods. The user may also enjoy settings that are fantasy-based or science fiction-based.\\n\\n6. The user's favourite visual style is likely to be a combination of both realistic and fantastical elements, as many of the movies listed have a mix of both. The user may also enjoy visual styles that are both animated and live-action.\\n\\n7. The user's favourite writing style is likely to be a combination of both dialogue and description, as many of the movies listed have well-crafted scripts and detailed storytelling. The user may also enjoy writing styles that are both humorous and poignant.\\n\\n8. The user's favourite runtime is likely to be between 90 minutes and 3 hours, as many of the movies listed have runtimes that fall within this range. The user may enjoy longer runtimes for dramas and historical pieces, and shorter runtimes for comedies and science fiction.\\n\\n9. The user's favourite themes are likely to be a combination of both universal and specific themes, as many of the movies listed explore a variety of topics. The user may enjoy themes that are both timeless and timely, such as love, loss, and social justice.\"\n",
        "model = SentenceTransformer('all-MiniLM-L12-v1')\n",
        "\n",
        "# struttura del modello\n",
        "print(model)\n",
        "\n",
        "# facciamo l'encoding\n",
        "out = model.encode(profilo)\n",
        "\n",
        "# stampiamo la forma dell'embedding\n",
        "print(out.shape)\n",
        "\n"
      ],
      "metadata": {
        "colab": {
          "base_uri": "https://localhost:8080/"
        },
        "id": "miNfr7szjCu5",
        "outputId": "09551308-fde3-4136-dd6b-c5663a2e50a8"
      },
      "execution_count": 17,
      "outputs": [
        {
          "output_type": "stream",
          "name": "stdout",
          "text": [
            "SentenceTransformer(\n",
            "  (0): Transformer({'max_seq_length': 256, 'do_lower_case': False}) with Transformer model: BertModel \n",
            "  (1): Pooling({'word_embedding_dimension': 384, 'pooling_mode_cls_token': False, 'pooling_mode_mean_tokens': True, 'pooling_mode_max_tokens': False, 'pooling_mode_mean_sqrt_len_tokens': False, 'pooling_mode_weightedmean_tokens': False, 'pooling_mode_lasttoken': False, 'include_prompt': True})\n",
            "  (2): Normalize()\n",
            ")\n",
            "(384,)\n"
          ]
        }
      ]
    },
    {
      "cell_type": "code",
      "source": [
        "# profili utente nel formato utente -> testo\n",
        "# attenzione a eventuali caratteri \" e ' nel testo\n",
        "# qui profiles va caricato tramite pickle\n",
        "\n",
        "# profiles = pkl.load(open('profiles.pkl', 'rb'))\n",
        "profiles = {0: \"The user's favourite genre is likely to be drama, as many of the movies listed fall under this category. However, the user also has a wide range of preferences, including science fiction, fantasy, historical drama, musical, horror, and comedy, so it's difficult to pinpoint a specific genre as their favourite.\\n\\n2. The user's favourite kind of plot is likely to be complex and multi-layered, as many of the movies listed have intricate storylines and explore deep themes. The user seems to enjoy stories that are both entertaining and thought-provoking.\\n\\n3. The user's favourite kind of musical score is likely to be emotional and impactful, as many of the movies listed have memorable soundtracks that enhance the viewing experience. The user may prefer scores that are both orchestral and contemporary in style.\\n\\n4. The user's favourite mood for the musical score is likely to be uplifting and inspiring, as many of the movies listed have scores that evoke feelings of hope and optimism. The user may also enjoy scores that are melancholic and reflective, as these emotions are often present in dramas and historical pieces.\\n\\n5. The user's favourite setting is likely to be a combination of both contemporary and historical settings, as many of the movies listed take place in different time periods. The user may also enjoy settings that are fantasy-based or science fiction-based.\\n\\n6. The user's favourite visual style is likely to be a combination of both realistic and fantastical elements, as many of the movies listed have a mix of both. The user may also enjoy visual styles that are both animated and live-action.\\n\\n7. The user's favourite writing style is likely to be a combination of both dialogue and description, as many of the movies listed have well-crafted scripts and detailed storytelling. The user may also enjoy writing styles that are both humorous and poignant.\\n\\n8. The user's favourite runtime is likely to be between 90 minutes and 3 hours, as many of the movies listed have runtimes that fall within this range. The user may enjoy longer runtimes for dramas and historical pieces, and shorter runtimes for comedies and science fiction.\\n\\n9. The user's favourite themes are likely to be a combination of both universal and specific themes, as many of the movies listed explore a variety of topics. The user may enjoy themes that are both timeless and timely, such as love, loss, and social justice.\",\n",
        "            1: \"Based on the user's favorite movies, it can be inferred that they enjoy a variety of genres, including action, drama, science fiction, and historical fiction. They also seem to prefer movies with a strong plot and well-developed characters. The user's taste in musical scores suggests a preference for epic and dramatic scores, often with a touch of nostalgia. The setting and visual style of the user's favorite movies suggest a fondness for grandiose and immersive worlds, whether they are set in the past, present, or future. The user's taste in writing style suggests a preference for well-crafted dialogue and a focus on character development. The user's favorite runtime suggests a preference for movies that are not too short or too long, with a sweet spot of around two to three hours. The user's favorite themes suggest a fondness for stories that explore complex and thought-provoking ideas, such as justice, morality, and the human condition.\"\n",
        "            }\n",
        "\n",
        "\n",
        "# sentence encoder model\n",
        "model = SentenceTransformer('all-MiniLM-L12-v1')\n",
        "\n",
        "# esempio - ci prendiamo anche la dimensione degli embedding appresi\n",
        "text = 'this is a test'\n",
        "text_emb = model.encode(text)\n",
        "emb_dim = len(text_emb)\n",
        "\n",
        "# qui salviamo gli embedding del testo\n",
        "embeddings = dict()\n",
        "\n",
        "# encoding sentences\n",
        "for user in profiles:\n",
        "\n",
        "  try:\n",
        "    embedding = model.encode(profiles[user])\n",
        "  except:\n",
        "    embedding = np.zeros(len(emb_dim))\n",
        "  embeddings[user] = embedding\n",
        "\n",
        "\n",
        "# save embeddings\n",
        "pickle.dump(embeddings, open('sent_emb.pickle', 'wb'))"
      ],
      "metadata": {
        "id": "EbAeFZrThG_o"
      },
      "execution_count": 18,
      "outputs": []
    },
    {
      "cell_type": "code",
      "source": [],
      "metadata": {
        "id": "E986A-bUlBKS"
      },
      "execution_count": null,
      "outputs": []
    }
  ]
}