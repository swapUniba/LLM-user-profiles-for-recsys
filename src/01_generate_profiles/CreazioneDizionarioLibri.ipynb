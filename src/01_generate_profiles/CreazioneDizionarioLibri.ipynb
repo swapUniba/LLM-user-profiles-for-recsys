{
 "cells": [
  {
   "cell_type": "code",
   "execution_count": 1,
   "metadata": {
    "colab": {
     "base_uri": "https://localhost:8080/"
    },
    "executionInfo": {
     "elapsed": 56734,
     "status": "ok",
     "timestamp": 1727279344402,
     "user": {
      "displayName": "Arianna Garaglia",
      "userId": "02127444409320603794"
     },
     "user_tz": -120
    },
    "id": "2AHYxP_aeN-O",
    "outputId": "ef181feb-eb19-4f8f-f7ae-b42ef7a800d8"
   },
   "outputs": [
    {
     "name": "stdout",
     "output_type": "stream",
     "text": [
      "Mounted at /content/drive\n"
     ]
    }
   ],
   "source": [
    "import json\n",
    "import os\n",
    "\n",
    "from google.colab import drive\n",
    "drive.mount('/content/drive')\n",
    "\n",
    "#File da cui leggere le preferenze utente\n",
    "directory_path = \"/content/drive/MyDrive/dbbook/outputs\"\n"
   ]
  },
  {
   "cell_type": "code",
   "execution_count": null,
   "metadata": {
    "id": "VRYRWaTpeUo_"
   },
   "outputs": [],
   "source": [
    "# inizializzazione dizionario vuoto\n",
    "utenti_dict = {}\n",
    "\n",
    "# Itera su tutti i file nella cartella 'outputs'\n",
    "for filename in os.listdir(directory_path):\n",
    "\n",
    "    # Verifica che il file sia un JSON\n",
    "    if filename.endswith(\".json\"):\n",
    "\n",
    "        # Estrazione ID utente dal nome del file (ad esempio \"user1_sysprompt2.json\")\n",
    "        user_key = filename.split(\"_\")[0]  # Questo darà 'user1'\n",
    "\n",
    "        # Estrazione solo del numero dall'ID utente\n",
    "        user_id = int(user_key[4:])  # Estrae '1' da 'user1'\n",
    "\n",
    "        # Costruzione del percorso completo del file\n",
    "        file_path = os.path.join(directory_path, filename)\n",
    "\n",
    "        # Caricamento del contenuto del file JSON\n",
    "        with open(file_path, \"r\") as json_file:\n",
    "            user_profile = json.load(json_file)\n",
    "\n",
    "        # Aggiunta del profilo utente al dizionario con l'ID utente come chiave\n",
    "        utenti_dict[user_id] = user_profile\n",
    "\n",
    "# Verifica che i dati siano stati caricati correttamente\n",
    "print(f\"Totale utenti caricati: {len(utenti_dict)}\")\n",
    "\n",
    "# Ordina il dizionario per ID utente\n",
    "utenti_dict_ordinato = dict(sorted(utenti_dict.items(), key=lambda x: x[0]))\n",
    "\n",
    "# Salva il dizionario ordinato in un file JSON\n",
    "with open(\"/content/drive/MyDrive/dbbook/dizionario.json\", \"w\") as outfile:\n",
    "    json.dump(utenti_dict_ordinato, outfile, indent=4)\n",
    "\n",
    "# Verifica che i dati siano stati caricati correttamente\n",
    "print(f\"Totale utenti salvati: {len(utenti_dict_ordinato)}\")\n"
   ]
  }
 ],
 "metadata": {
  "colab": {
   "authorship_tag": "ABX9TyPoKa1EPiMs/wdJaNmf5Vpk",
   "provenance": []
  },
  "kernelspec": {
   "display_name": "Python 3",
   "name": "python3"
  },
  "language_info": {
   "name": "python"
  }
 },
 "nbformat": 4,
 "nbformat_minor": 0
}
