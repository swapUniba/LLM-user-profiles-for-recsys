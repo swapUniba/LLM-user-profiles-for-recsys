{
 "nbformat": 4,
 "nbformat_minor": 0,
 "metadata": {
  "colab": {
   "name": "3_graph_pagerank.ipynb",
   "provenance": [],
   "collapsed_sections": []
  },
  "kernelspec": {
   "display_name": "Python 3",
   "name": "python3"
  }
 },
 "cells": [
  {
   "cell_type": "markdown",
   "metadata": {
    "id": "UGfRczMXt-Tt"
   },
   "source": [
    "# Installation with pip\n",
    "Every dependency needed by the framework will be downloaded and installed automatically"
   ]
  },
  {
   "cell_type": "code",
   "metadata": {
    "id": "_z0TVVHmQ2sU",
    "colab": {
     "base_uri": "https://localhost:8080/",
     "height": 1000
    },
    "outputId": "2cf10cde-4821-4f3d-80e8-66ed5e7bb5f5"
   },
   "source": [
    "!pip install clayrs"
   ],
   "execution_count": 47,
   "outputs": [
    {
     "output_type": "stream",
     "name": "stdout",
     "text": [
      "Looking in indexes: https://pypi.org/simple, https://us-python.pkg.dev/colab-wheels/public/simple/\n",
      "Collecting clayrs\n",
      "  Downloading clayrs-0.4.0.tar.gz (225 kB)\n",
      "\u001B[K     |████████████████████████████████| 225 kB 5.3 MB/s \n",
      "\u001B[?25h  Installing build dependencies ... \u001B[?25l\u001B[?25hdone\n",
      "  Getting requirements to build wheel ... \u001B[?25l\u001B[?25hdone\n",
      "    Preparing wheel metadata ... \u001B[?25l\u001B[?25hdone\n",
      "Collecting PyYAML~=5.3.1\n",
      "  Using cached PyYAML-5.3.1.tar.gz (269 kB)\n",
      "Collecting distex~=0.7.1\n",
      "  Using cached distex-0.7.2-py3-none-any.whl (19 kB)\n",
      "Collecting spacy~=3.2.1\n",
      "  Downloading spacy-3.2.6-cp38-cp38-manylinux_2_17_x86_64.manylinux2014_x86_64.whl (6.2 MB)\n",
      "\u001B[K     |████████████████████████████████| 6.2 MB 74.2 MB/s \n",
      "\u001B[?25hCollecting whoosh~=2.7.4\n",
      "  Using cached Whoosh-2.7.4-py2.py3-none-any.whl (468 kB)\n",
      "Collecting gensim~=4.1.2\n",
      "  Downloading gensim-4.1.2-cp38-cp38-manylinux_2_12_x86_64.manylinux2010_x86_64.whl (24.1 MB)\n",
      "\u001B[K     |████████████████████████████████| 24.1 MB 1.7 MB/s \n",
      "\u001B[?25hCollecting scikit-learn==1.0.2\n",
      "  Downloading scikit_learn-1.0.2-cp38-cp38-manylinux_2_17_x86_64.manylinux2014_x86_64.whl (26.7 MB)\n",
      "\u001B[K     |████████████████████████████████| 26.7 MB 2.1 MB/s \n",
      "\u001B[?25hCollecting transformers~=4.15.0\n",
      "  Downloading transformers-4.15.0-py3-none-any.whl (3.4 MB)\n",
      "\u001B[K     |████████████████████████████████| 3.4 MB 44.9 MB/s \n",
      "\u001B[?25hCollecting nltk~=3.5\n",
      "  Downloading nltk-3.8.1-py3-none-any.whl (1.5 MB)\n",
      "\u001B[K     |████████████████████████████████| 1.5 MB 33.3 MB/s \n",
      "\u001B[?25hCollecting tqdm~=4.62.2\n",
      "  Using cached tqdm-4.62.3-py2.py3-none-any.whl (76 kB)\n",
      "Collecting colorama~=0.4.4\n",
      "  Using cached colorama-0.4.6-py2.py3-none-any.whl (25 kB)\n",
      "Collecting numpy~=1.21.6\n",
      "  Downloading numpy-1.21.6-cp38-cp38-manylinux_2_12_x86_64.manylinux2010_x86_64.whl (15.7 MB)\n",
      "\u001B[K     |████████████████████████████████| 15.7 MB 12 kB/s \n",
      "\u001B[?25hCollecting nest-asyncio~=1.5.5\n",
      "  Downloading nest_asyncio-1.5.6-py3-none-any.whl (5.2 kB)\n",
      "Collecting torch~=1.11.0\n",
      "  Downloading torch-1.11.0-cp38-cp38-manylinux1_x86_64.whl (750.6 MB)\n",
      "\u001B[K     |████████████████████████████████| 750.6 MB 12 kB/s \n",
      "\u001B[?25hCollecting mysql~=0.0.3\n",
      "  Using cached mysql-0.0.3-py3-none-any.whl (1.2 kB)\n",
      "Collecting ekphrasis~=0.5.4\n",
      "  Using cached ekphrasis-0.5.4-py3-none-any.whl (83 kB)\n",
      "Collecting pywsd~=1.2.4\n",
      "  Using cached pywsd-1.2.5-py3-none-any.whl (26.9 MB)\n",
      "Collecting pandas~=1.2.4\n",
      "  Downloading pandas-1.2.5-cp38-cp38-manylinux_2_5_x86_64.manylinux1_x86_64.whl (9.7 MB)\n",
      "\u001B[K     |████████████████████████████████| 9.7 MB 67.9 MB/s \n",
      "\u001B[?25hCollecting wn~=0.0.23\n",
      "  Using cached wn-0.0.23.tar.gz (31.6 MB)\n",
      "Collecting sentence-transformers~=1.2.0\n",
      "  Using cached sentence-transformers-1.2.1.tar.gz (80 kB)\n",
      "Collecting scipy~=1.7.3\n",
      "  Downloading scipy-1.7.3-cp38-cp38-manylinux_2_17_x86_64.manylinux2014_x86_64.whl (39.3 MB)\n",
      "\u001B[K     |████████████████████████████████| 39.3 MB 18 kB/s \n",
      "\u001B[?25hCollecting matplotlib~=3.2.2\n",
      "  Downloading matplotlib-3.2.2-cp38-cp38-manylinux1_x86_64.whl (12.4 MB)\n",
      "\u001B[K     |████████████████████████████████| 12.4 MB 49.1 MB/s \n",
      "\u001B[?25hCollecting SPARQLWrapper~=1.8.5\n",
      "  Using cached SPARQLWrapper-1.8.5-py3-none-any.whl (26 kB)\n",
      "Collecting networkx~=2.6.3\n",
      "  Using cached networkx-2.6.3-py3-none-any.whl (1.9 MB)\n",
      "Collecting pyaml~=21.10.1\n",
      "  Using cached pyaml-21.10.1-py2.py3-none-any.whl (24 kB)\n",
      "Collecting mysql-connector-python~=8.0.20\n",
      "  Downloading mysql_connector_python-8.0.33-cp38-cp38-manylinux1_x86_64.whl (27.4 MB)\n",
      "\u001B[K     |████████████████████████████████| 27.4 MB 68 kB/s \n",
      "\u001B[?25hCollecting textblob~=0.15.3\n",
      "  Using cached textblob-0.15.3-py2.py3-none-any.whl (636 kB)\n",
      "Collecting babelpy~=1.0.1\n",
      "  Using cached BabelPy-1.0.1.tar.gz (8.0 kB)\n",
      "Collecting dill\n",
      "  Using cached dill-0.3.6-py3-none-any.whl (110 kB)\n",
      "Collecting eventkit\n",
      "  Using cached eventkit-1.0.0-py3-none-any.whl (31 kB)\n",
      "Collecting cloudpickle\n",
      "  Downloading cloudpickle-2.2.1-py3-none-any.whl (25 kB)\n",
      "Collecting preshed<3.1.0,>=3.0.2\n",
      "  Downloading preshed-3.0.8-cp38-cp38-manylinux_2_5_x86_64.manylinux1_x86_64.manylinux_2_17_x86_64.manylinux2014_x86_64.whl (130 kB)\n",
      "\u001B[K     |████████████████████████████████| 130 kB 46.0 MB/s \n",
      "\u001B[?25hCollecting blis<0.8.0,>=0.4.0\n",
      "  Downloading blis-0.7.9-cp38-cp38-manylinux_2_17_x86_64.manylinux2014_x86_64.whl (10.2 MB)\n",
      "\u001B[K     |████████████████████████████████| 10.2 MB 49.3 MB/s \n",
      "\u001B[?25hCollecting spacy-loggers<2.0.0,>=1.0.0\n",
      "  Downloading spacy_loggers-1.0.4-py3-none-any.whl (11 kB)\n",
      "Collecting murmurhash<1.1.0,>=0.28.0\n",
      "  Downloading murmurhash-1.0.9-cp38-cp38-manylinux_2_5_x86_64.manylinux1_x86_64.manylinux_2_17_x86_64.manylinux2014_x86_64.whl (21 kB)\n",
      "Collecting jinja2\n",
      "  Downloading Jinja2-3.1.2-py3-none-any.whl (133 kB)\n",
      "\u001B[K     |████████████████████████████████| 133 kB 47.7 MB/s \n",
      "\u001B[?25hCollecting typing-extensions<4.6.0,>=3.7.4.1\n",
      "  Downloading typing_extensions-4.5.0-py3-none-any.whl (27 kB)\n",
      "Collecting srsly<3.0.0,>=2.4.1\n",
      "  Downloading srsly-2.4.6-cp38-cp38-manylinux_2_17_x86_64.manylinux2014_x86_64.whl (493 kB)\n",
      "\u001B[K     |████████████████████████████████| 493 kB 37.0 MB/s \n",
      "\u001B[?25hCollecting langcodes<4.0.0,>=3.2.0\n",
      "  Downloading langcodes-3.3.0-py3-none-any.whl (181 kB)\n",
      "\u001B[K     |████████████████████████████████| 181 kB 48.3 MB/s \n",
      "\u001B[?25hCollecting spacy-legacy<3.1.0,>=3.0.8\n",
      "  Downloading spacy_legacy-3.0.12-py2.py3-none-any.whl (29 kB)\n",
      "Collecting thinc<8.1.0,>=8.0.12\n",
      "  Downloading thinc-8.0.17-cp38-cp38-manylinux_2_17_x86_64.manylinux2014_x86_64.whl (671 kB)\n",
      "\u001B[K     |████████████████████████████████| 671 kB 33.9 MB/s \n",
      "\u001B[?25hCollecting requests<3.0.0,>=2.13.0\n",
      "  Downloading requests-2.31.0-py3-none-any.whl (62 kB)\n",
      "\u001B[K     |████████████████████████████████| 62 kB 703 kB/s \n",
      "\u001B[?25hRequirement already satisfied: setuptools in /usr/lib/python3/dist-packages (from spacy~=3.2.1->clayrs) (45.2.0)\n",
      "Collecting pathy>=0.3.5\n",
      "  Downloading pathy-0.10.1-py3-none-any.whl (48 kB)\n",
      "\u001B[K     |████████████████████████████████| 48 kB 3.9 MB/s \n",
      "\u001B[?25hCollecting typer<0.5.0,>=0.3.0\n",
      "  Using cached typer-0.4.2-py3-none-any.whl (27 kB)\n",
      "Collecting wasabi<1.1.0,>=0.8.1\n",
      "  Using cached wasabi-0.10.1-py3-none-any.whl (26 kB)\n",
      "Collecting packaging>=20.0\n",
      "  Downloading packaging-23.1-py3-none-any.whl (48 kB)\n",
      "\u001B[K     |████████████████████████████████| 48 kB 4.2 MB/s \n",
      "\u001B[?25hCollecting smart-open<7.0.0,>=5.2.1\n",
      "  Downloading smart_open-6.3.0-py3-none-any.whl (56 kB)\n",
      "\u001B[K     |████████████████████████████████| 56 kB 2.7 MB/s \n",
      "\u001B[?25hCollecting pydantic!=1.8,!=1.8.1,<1.9.0,>=1.7.4\n",
      "  Downloading pydantic-1.8.2-cp38-cp38-manylinux2014_x86_64.whl (13.7 MB)\n",
      "\u001B[K     |████████████████████████████████| 13.7 MB 44.7 MB/s \n",
      "\u001B[?25hCollecting cymem<2.1.0,>=2.0.2\n",
      "  Downloading cymem-2.0.7-cp38-cp38-manylinux_2_17_x86_64.manylinux2014_x86_64.whl (36 kB)\n",
      "Collecting catalogue<2.1.0,>=2.0.6\n",
      "  Downloading catalogue-2.0.8-py3-none-any.whl (17 kB)\n",
      "Collecting threadpoolctl>=2.0.0\n",
      "  Downloading threadpoolctl-3.1.0-py3-none-any.whl (14 kB)\n",
      "Collecting joblib>=0.11\n",
      "  Downloading joblib-1.2.0-py3-none-any.whl (297 kB)\n",
      "\u001B[K     |████████████████████████████████| 297 kB 40.5 MB/s \n",
      "\u001B[?25hCollecting huggingface-hub<1.0,>=0.1.0\n",
      "  Using cached huggingface_hub-0.15.1-py3-none-any.whl (236 kB)\n",
      "Collecting regex!=2019.12.17\n",
      "  Downloading regex-2023.6.3-cp38-cp38-manylinux_2_17_x86_64.manylinux2014_x86_64.whl (772 kB)\n",
      "\u001B[K     |████████████████████████████████| 772 kB 49.4 MB/s \n",
      "\u001B[?25hCollecting filelock\n",
      "  Downloading filelock-3.12.1-py3-none-any.whl (10 kB)\n",
      "Collecting sacremoses\n",
      "  Downloading sacremoses-0.0.53.tar.gz (880 kB)\n",
      "\u001B[K     |████████████████████████████████| 880 kB 41.0 MB/s \n",
      "\u001B[?25hCollecting tokenizers<0.11,>=0.10.1\n",
      "  Downloading tokenizers-0.10.3-cp38-cp38-manylinux_2_5_x86_64.manylinux1_x86_64.manylinux_2_12_x86_64.manylinux2010_x86_64.whl (3.3 MB)\n",
      "\u001B[K     |████████████████████████████████| 3.3 MB 52.2 MB/s \n",
      "\u001B[?25hCollecting click\n",
      "  Downloading click-8.1.3-py3-none-any.whl (96 kB)\n",
      "\u001B[K     |████████████████████████████████| 96 kB 4.2 MB/s \n",
      "\u001B[?25hCollecting mysqlclient\n",
      "  Using cached mysqlclient-2.1.1.tar.gz (88 kB)\n",
      "Collecting ftfy\n",
      "  Using cached ftfy-6.1.1-py3-none-any.whl (53 kB)\n",
      "Collecting termcolor\n",
      "  Downloading termcolor-2.3.0-py3-none-any.whl (6.9 kB)\n",
      "Collecting ujson\n",
      "  Downloading ujson-5.8.0-cp38-cp38-manylinux_2_17_x86_64.manylinux2014_x86_64.whl (53 kB)\n",
      "\u001B[K     |████████████████████████████████| 53 kB 2.0 MB/s \n",
      "\u001B[?25hCollecting six\n",
      "  Downloading six-1.16.0-py2.py3-none-any.whl (11 kB)\n",
      "Collecting pytz>=2017.3\n",
      "  Downloading pytz-2023.3-py2.py3-none-any.whl (502 kB)\n",
      "\u001B[K     |████████████████████████████████| 502 kB 46.4 MB/s \n",
      "\u001B[?25hCollecting python-dateutil>=2.7.3\n",
      "  Downloading python_dateutil-2.8.2-py2.py3-none-any.whl (247 kB)\n",
      "\u001B[K     |████████████████████████████████| 247 kB 51.2 MB/s \n",
      "\u001B[?25hCollecting sentencepiece\n",
      "  Downloading sentencepiece-0.1.99-cp38-cp38-manylinux_2_17_x86_64.manylinux2014_x86_64.whl (1.3 MB)\n",
      "\u001B[K     |████████████████████████████████| 1.3 MB 57.9 MB/s \n",
      "\u001B[?25hCollecting torchvision\n",
      "  Downloading torchvision-0.15.2-cp38-cp38-manylinux1_x86_64.whl (33.8 MB)\n",
      "\u001B[K     |████████████████████████████████| 33.8 MB 82 kB/s \n",
      "\u001B[?25hCollecting kiwisolver>=1.0.1\n",
      "  Downloading kiwisolver-1.4.4-cp38-cp38-manylinux_2_5_x86_64.manylinux1_x86_64.whl (1.2 MB)\n",
      "\u001B[K     |████████████████████████████████| 1.2 MB 48.1 MB/s \n",
      "\u001B[?25hCollecting cycler>=0.10\n",
      "  Downloading cycler-0.11.0-py3-none-any.whl (6.4 kB)\n",
      "Collecting pyparsing!=2.0.4,!=2.1.2,!=2.1.6,>=2.0.1\n",
      "  Downloading pyparsing-3.0.9-py3-none-any.whl (98 kB)\n",
      "\u001B[K     |████████████████████████████████| 98 kB 5.8 MB/s \n",
      "\u001B[?25hCollecting rdflib>=4.0\n",
      "  Using cached rdflib-6.3.2-py3-none-any.whl (528 kB)\n",
      "Collecting protobuf<=3.20.3,>=3.11.0\n",
      "  Downloading protobuf-3.20.3-cp38-cp38-manylinux_2_5_x86_64.manylinux1_x86_64.whl (1.0 MB)\n",
      "\u001B[K     |████████████████████████████████| 1.0 MB 47.4 MB/s \n",
      "\u001B[?25hCollecting MarkupSafe>=2.0\n",
      "  Downloading MarkupSafe-2.1.3-cp38-cp38-manylinux_2_17_x86_64.manylinux2014_x86_64.whl (25 kB)\n",
      "Collecting charset-normalizer<4,>=2\n",
      "  Downloading charset_normalizer-3.1.0-cp38-cp38-manylinux_2_17_x86_64.manylinux2014_x86_64.whl (195 kB)\n",
      "\u001B[K     |████████████████████████████████| 195 kB 50.2 MB/s \n",
      "\u001B[?25hCollecting urllib3<3,>=1.21.1\n",
      "  Downloading urllib3-2.0.3-py3-none-any.whl (123 kB)\n",
      "\u001B[K     |████████████████████████████████| 123 kB 50.7 MB/s \n",
      "\u001B[?25hCollecting idna<4,>=2.5\n",
      "  Downloading idna-3.4-py3-none-any.whl (61 kB)\n",
      "\u001B[K     |████████████████████████████████| 61 kB 95 kB/s \n",
      "\u001B[?25hCollecting certifi>=2017.4.17\n",
      "  Downloading certifi-2023.5.7-py3-none-any.whl (156 kB)\n",
      "\u001B[K     |████████████████████████████████| 156 kB 26.4 MB/s \n",
      "\u001B[?25hCollecting fsspec\n",
      "  Downloading fsspec-2023.6.0-py3-none-any.whl (163 kB)\n",
      "\u001B[K     |████████████████████████████████| 163 kB 53.4 MB/s \n",
      "\u001B[?25hCollecting wcwidth>=0.2.5\n",
      "  Downloading wcwidth-0.2.6-py2.py3-none-any.whl (29 kB)\n",
      "Collecting pillow!=8.3.*,>=5.3.0\n",
      "  Downloading Pillow-9.5.0-cp38-cp38-manylinux_2_17_x86_64.manylinux2014_x86_64.whl (3.3 MB)\n",
      "\u001B[K     |████████████████████████████████| 3.3 MB 47.5 MB/s \n",
      "\u001B[?25hCollecting isodate<0.7.0,>=0.6.0\n",
      "  Using cached isodate-0.6.1-py2.py3-none-any.whl (41 kB)\n",
      "Building wheels for collected packages: clayrs, PyYAML, wn, sentence-transformers, babelpy, sacremoses, mysqlclient\n",
      "  Building wheel for clayrs (PEP 517) ... \u001B[?25l\u001B[?25hdone\n",
      "  Created wheel for clayrs: filename=clayrs-0.4.0-py3-none-any.whl size=317885 sha256=b0807de43152f8ab365f999d38d48afcd6836ade9f44c83da7723bd39e47ea3b\n",
      "  Stored in directory: /root/.cache/pip/wheels/43/23/d3/56025a419c6d0344c2ece14362dff71825322329239ccfabdd\n",
      "  Building wheel for PyYAML (setup.py) ... \u001B[?25l\u001B[?25hdone\n",
      "  Created wheel for PyYAML: filename=PyYAML-5.3.1-cp38-cp38-linux_x86_64.whl size=44617 sha256=fce5f0dfbbd7860b4b6687d16787ccddd06ba94d400553cd9f6cf94b6dd3c754\n",
      "  Stored in directory: /root/.cache/pip/wheels/13/90/db/290ab3a34f2ef0b5a0f89235dc2d40fea83e77de84ed2dc05c\n",
      "  Building wheel for wn (setup.py) ... \u001B[?25l\u001B[?25hdone\n",
      "  Created wheel for wn: filename=wn-0.0.23-py3-none-any.whl size=31792943 sha256=eba66cabd1ff38878d5126fb0e5d8d7ccb5972baf97d0e462594786e5ca0c7e0\n",
      "  Stored in directory: /root/.cache/pip/wheels/6b/eb/fe/eb7c7be28c29ee90dd9d6f58c116673d0eb07b2d83dfb72a37\n",
      "  Building wheel for sentence-transformers (setup.py) ... \u001B[?25l\u001B[?25hdone\n",
      "  Created wheel for sentence-transformers: filename=sentence_transformers-1.2.1-py3-none-any.whl size=123300 sha256=d20c6f1aed092fca30362bc649fae70b9fa60cc3734ea4e2ce254b673d933f77\n",
      "  Stored in directory: /root/.cache/pip/wheels/92/e0/93/a0f6582848b87b07fa73c0f1fe2f43b6328fd3171fe852f381\n",
      "  Building wheel for babelpy (setup.py) ... \u001B[?25l\u001B[?25hdone\n",
      "  Created wheel for babelpy: filename=BabelPy-1.0.1-py3-none-any.whl size=9722 sha256=ec3ccf5b2760497c7ac8e09f118aaf172ac3acebd7016518c93661e43ed2169a\n",
      "  Stored in directory: /root/.cache/pip/wheels/67/8f/30/b724e0e8f88e79a32dc7358b52397421d71eac263bdb09e39a\n",
      "  Building wheel for sacremoses (setup.py) ... \u001B[?25l\u001B[?25hdone\n",
      "  Created wheel for sacremoses: filename=sacremoses-0.0.53-py3-none-any.whl size=895255 sha256=fabe0db3037d29b0c0ebc2e89458ee5c3822736fe5d9bfb0b81102aa62492d76\n",
      "  Stored in directory: /root/.cache/pip/wheels/82/ab/9b/c15899bf659ba74f623ac776e861cf2eb8608c1825ddec66a4\n",
      "  Building wheel for mysqlclient (setup.py) ... \u001B[?25l\u001B[?25hdone\n",
      "  Created wheel for mysqlclient: filename=mysqlclient-2.1.1-cp38-cp38-linux_x86_64.whl size=109160 sha256=41991612362b690ef7536df1d78b9a6761680d583708a2d5ad5db3b7d2b63462\n",
      "  Stored in directory: /root/.cache/pip/wheels/5b/e1/84/a6185eaec318899f59a32d393af7729a0719cd93695d71f9a1\n",
      "Successfully built clayrs PyYAML wn sentence-transformers babelpy sacremoses mysqlclient\n",
      "\u001B[31mERROR: torchvision 0.15.2 has requirement torch==2.0.1, but you'll have torch 1.11.0 which is incompatible.\u001B[0m\n",
      "Installing collected packages: PyYAML, dill, numpy, eventkit, cloudpickle, distex, cymem, murmurhash, preshed, blis, spacy-loggers, MarkupSafe, jinja2, typing-extensions, catalogue, srsly, langcodes, spacy-legacy, tqdm, wasabi, pydantic, thinc, charset-normalizer, urllib3, idna, certifi, requests, smart-open, click, typer, pathy, packaging, spacy, whoosh, scipy, gensim, threadpoolctl, joblib, scikit-learn, filelock, fsspec, huggingface-hub, regex, six, sacremoses, tokenizers, transformers, nltk, colorama, nest-asyncio, torch, mysqlclient, mysql, kiwisolver, python-dateutil, cycler, pyparsing, matplotlib, wcwidth, ftfy, termcolor, ujson, ekphrasis, pytz, pandas, wn, pywsd, sentencepiece, pillow, torchvision, sentence-transformers, isodate, rdflib, SPARQLWrapper, networkx, pyaml, protobuf, mysql-connector-python, textblob, babelpy, clayrs\n",
      "Successfully installed MarkupSafe-2.1.3 PyYAML-5.3.1 SPARQLWrapper-1.8.5 babelpy-1.0.1 blis-0.7.9 catalogue-2.0.8 certifi-2023.5.7 charset-normalizer-3.1.0 clayrs-0.4.0 click-8.1.3 cloudpickle-2.2.1 colorama-0.4.6 cycler-0.11.0 cymem-2.0.7 dill-0.3.6 distex-0.7.2 ekphrasis-0.5.4 eventkit-1.0.0 filelock-3.12.1 fsspec-2023.6.0 ftfy-6.1.1 gensim-4.1.2 huggingface-hub-0.15.1 idna-3.4 isodate-0.6.1 jinja2-3.1.2 joblib-1.2.0 kiwisolver-1.4.4 langcodes-3.3.0 matplotlib-3.2.2 murmurhash-1.0.9 mysql-0.0.3 mysql-connector-python-8.0.33 mysqlclient-2.1.1 nest-asyncio-1.5.6 networkx-2.6.3 nltk-3.8.1 numpy-1.21.6 packaging-23.1 pandas-1.2.5 pathy-0.10.1 pillow-9.5.0 preshed-3.0.8 protobuf-3.20.3 pyaml-21.10.1 pydantic-1.8.2 pyparsing-3.0.9 python-dateutil-2.8.2 pytz-2023.3 pywsd-1.2.5 rdflib-6.3.2 regex-2023.6.3 requests-2.31.0 sacremoses-0.0.53 scikit-learn-1.0.2 scipy-1.7.3 sentence-transformers-1.2.1 sentencepiece-0.1.99 six-1.16.0 smart-open-6.3.0 spacy-3.2.6 spacy-legacy-3.0.12 spacy-loggers-1.0.4 srsly-2.4.6 termcolor-2.3.0 textblob-0.15.3 thinc-8.0.17 threadpoolctl-3.1.0 tokenizers-0.10.3 torch-1.11.0 torchvision-0.15.2 tqdm-4.62.3 transformers-4.15.0 typer-0.4.2 typing-extensions-4.5.0 ujson-5.8.0 urllib3-2.0.3 wasabi-0.10.1 wcwidth-0.2.6 whoosh-2.7.4 wn-0.0.23\n"
     ]
    },
    {
     "output_type": "display_data",
     "data": {
      "application/vnd.colab-display-data+json": {
       "pip_warning": {
        "packages": [
         "SPARQLWrapper",
         "_mysql_connector",
         "babelpy",
         "blis",
         "catalogue",
         "clayrs",
         "click",
         "cloudpickle",
         "cycler",
         "cymem",
         "dateutil",
         "dill",
         "distex",
         "ekphrasis",
         "eventkit",
         "google",
         "huggingface_hub",
         "jinja2",
         "joblib",
         "kiwisolver",
         "murmurhash",
         "mysql",
         "nest_asyncio",
         "networkx",
         "nltk",
         "preshed",
         "pyaml",
         "pydantic",
         "scipy",
         "sentence_transformers",
         "sentencepiece",
         "six",
         "sklearn",
         "smart_open",
         "spacy",
         "srsly",
         "textblob",
         "thinc",
         "torch",
         "tqdm",
         "ujson",
         "wasabi",
         "wcwidth",
         "whoosh",
         "yaml"
        ]
       }
      }
     },
     "metadata": {}
    }
   ]
  },
  {
   "cell_type": "markdown",
   "metadata": {
    "id": "G1MOZctwVyW5"
   },
   "source": [
    "# **! RESTART RUNTIME !**"
   ]
  },
  {
   "cell_type": "markdown",
   "metadata": {
    "id": "VTZB50Y3rN-8"
   },
   "source": [
    "# Correct order log and prints for IPython\n",
    "This is necessary only for IPython environments (Colab, Jupyter, etc.), since they mess up the order of  ```print``` and ```logging```\n",
    "\n",
    "```python\n",
    "# EXAMPLE of the issue\n",
    ">>> import logging\n",
    ">>> print(\"Should go first\")\n",
    ">>> logging.warning(\"Should go second\")\n",
    "WARNING:root:Should go second\n",
    "Should go first\n",
    "```\n",
    "\n"
   ]
  },
  {
   "cell_type": "code",
   "metadata": {
    "id": "GOTUezxnqzn7"
   },
   "source": [
    "import functools\n",
    "print = functools.partial(print, flush=True)"
   ],
   "execution_count": 2,
   "outputs": []
  },
  {
   "cell_type": "markdown",
   "metadata": {
    "id": "uVKotTbvf_rC"
   },
   "source": [
    "# Import and datasets download\n",
    "\n",
    "The framework is made of three modules:\n",
    "> 1.   Content Analyzer\n",
    "> 2.   Recommender System\n",
    "> 3.   Evaluation\n",
    "\n",
    "We import every module as a library and use classes and methods by using the dot notation:"
   ]
  },
  {
   "cell_type": "code",
   "metadata": {
    "id": "SctkIBio9dhe"
   },
   "source": [
    "from clayrs import content_analyzer as ca\n",
    "from clayrs import recsys as rs\n",
    "from clayrs import evaluation as eva\n",
    "\n",
    "# Usage:\n",
    "# ...\n",
    "# ca.Ratings()\n",
    "# rs.ContentBasedRS()\n",
    "# eva.EvalModel()\n",
    "# ..."
   ],
   "execution_count": 3,
   "outputs": []
  },
  {
   "cell_type": "markdown",
   "metadata": {
    "id": "zYjcSfTtCXEw"
   },
   "source": [
    "We use **Movielens 100k** as dataset, with items info expanded thanks to imdb\n",
    "\n"
   ]
  },
  {
   "cell_type": "code",
   "metadata": {
    "id": "HwEnaPj4pvCS",
    "colab": {
     "base_uri": "https://localhost:8080/"
    },
    "outputId": "a1a3b587-d2c7-4e4f-eaf5-6bcad98dd5b5"
   },
   "source": [
    "# Dataset: Movielens-100k\n",
    "\n",
    "# download items_info\n",
    "! wget https://raw.githubusercontent.com/swapUniba/clayrs/master/datasets/ml-100k/items_info.json\n",
    "\n",
    "# download users_info\n",
    "! wget https://raw.githubusercontent.com/swapUniba/clayrs/master/datasets/ml-100k/users_info.csv\n",
    "\n",
    "# download ratings\n",
    "! wget https://raw.githubusercontent.com/swapUniba/clayrs/master/datasets/ml-100k/ratings.csv"
   ],
   "execution_count": 4,
   "outputs": [
    {
     "output_type": "stream",
     "name": "stdout",
     "text": [
      "--2023-06-11 20:44:14--  https://raw.githubusercontent.com/swapUniba/clayrs/master/datasets/ml-100k/items_info.json\n",
      "Resolving raw.githubusercontent.com (raw.githubusercontent.com)... 185.199.108.133, 185.199.109.133, 185.199.110.133, ...\n",
      "Connecting to raw.githubusercontent.com (raw.githubusercontent.com)|185.199.108.133|:443... connected.\n",
      "HTTP request sent, awaiting response... 200 OK\n",
      "Length: 2222967 (2.1M) [text/plain]\n",
      "Saving to: ‘items_info.json’\n",
      "\n",
      "items_info.json     100%[===================>]   2.12M  --.-KB/s    in 0.07s   \n",
      "\n",
      "2023-06-11 20:44:15 (32.4 MB/s) - ‘items_info.json’ saved [2222967/2222967]\n",
      "\n",
      "--2023-06-11 20:44:15--  https://raw.githubusercontent.com/swapUniba/clayrs/master/datasets/ml-100k/users_info.csv\n",
      "Resolving raw.githubusercontent.com (raw.githubusercontent.com)... 185.199.108.133, 185.199.109.133, 185.199.110.133, ...\n",
      "Connecting to raw.githubusercontent.com (raw.githubusercontent.com)|185.199.108.133|:443... connected.\n",
      "HTTP request sent, awaiting response... 200 OK\n",
      "Length: 22667 (22K) [text/plain]\n",
      "Saving to: ‘users_info.csv’\n",
      "\n",
      "users_info.csv      100%[===================>]  22.14K  --.-KB/s    in 0.001s  \n",
      "\n",
      "2023-06-11 20:44:15 (16.0 MB/s) - ‘users_info.csv’ saved [22667/22667]\n",
      "\n",
      "--2023-06-11 20:44:15--  https://raw.githubusercontent.com/swapUniba/clayrs/master/datasets/ml-100k/ratings.csv\n",
      "Resolving raw.githubusercontent.com (raw.githubusercontent.com)... 185.199.109.133, 185.199.111.133, 185.199.108.133, ...\n",
      "Connecting to raw.githubusercontent.com (raw.githubusercontent.com)|185.199.109.133|:443... connected.\n",
      "HTTP request sent, awaiting response... 200 OK\n",
      "Length: 1979206 (1.9M) [text/plain]\n",
      "Saving to: ‘ratings.csv’\n",
      "\n",
      "ratings.csv         100%[===================>]   1.89M  --.-KB/s    in 0.06s   \n",
      "\n",
      "2023-06-11 20:44:15 (30.2 MB/s) - ‘ratings.csv’ saved [1979206/1979206]\n",
      "\n"
     ]
    }
   ]
  },
  {
   "cell_type": "markdown",
   "metadata": {
    "id": "EBOImtHzxTlQ"
   },
   "source": [
    "### Check items file\n",
    "In this example, the file containing items info is a JSON where every entry corresponds to a movie.\n",
    "\n",
    "For every movie there are various information, such as *genres, directors, cast, etc.*"
   ]
  },
  {
   "cell_type": "code",
   "metadata": {
    "colab": {
     "base_uri": "https://localhost:8080/"
    },
    "id": "eAMUA6B6wSje",
    "outputId": "ef3953ea-99c5-4789-dd4a-a88ed3501a63"
   },
   "source": [
    "with open(\"items_info.json\", \"r\") as f:\n",
    "  # 25 lines but in these 23 lines there are only 2 entries:\n",
    "  # 'Toy Story', and 'Golden Eye'\n",
    "  for _ in range(25):\n",
    "    print(f.readline(), end='')\n"
   ],
   "execution_count": 5,
   "outputs": [
    {
     "output_type": "stream",
     "name": "stdout",
     "text": [
      "[\n",
      "    {\n",
      "        \"movielens_id\": \"1\",\n",
      "        \"imdb_id\": \"0114709\",\n",
      "        \"title\": \"Toy Story\",\n",
      "        \"plot\": \"A cowboy doll is profoundly threatened and jealous when a new spaceman figure supplants him as top toy in a boy's room.\",\n",
      "        \"genres\": \"Animation, Adventure, Comedy, Family, Fantasy\",\n",
      "        \"year\": \"1995\",\n",
      "        \"rating\": \"8.3\",\n",
      "        \"directors\": \"John Lasseter\",\n",
      "        \"cast\": \"Tom Hanks, Tim Allen, Don Rickles, Jim Varney, Wallace Shawn, John Ratzenberger, Annie Potts, John Morris, Erik von Detten, Laurie Metcalf, R. Lee Ermey, Sarah Rayne, Penn Jillette, Jack Angel, Spencer Aste, Greg Berg, Lisa Bradley, Kendall Cunningham, Debi Derryberry, Cody Dorkin, Bill Farmer, Craig Good, Gregory Grudt, Danielle Judovits, Sam Lasseter, Brittany Levenbrown, Sherry Lynn, Scott McAfee, Mickie McGowan, Ryan O'Donohue, Jeff Pidgeon, Patrick Pinney, Phil Proctor, Jan Rabson, Joe Ranft, Andrew Stanton, Shane Sweet, Wayne Allwine, Tony Anselmo, Jonathan Benair, Anthony Burch, John Lasseter, Billy West\",\n",
      "        \"dbpedia_uri\": \"http://dbpedia.org/resource/Toy_Story\",\n",
      "        \"dbpedia_label\": \"Toy Story\"\n",
      "    },\n",
      "    {\n",
      "        \"movielens_id\": \"2\",\n",
      "        \"imdb_id\": \"0113189\",\n",
      "        \"title\": \"GoldenEye\",\n",
      "        \"plot\": \"Years after a friend and fellow 00 agent is killed on a joint mission, a secret space based weapons program known as \\\"_GoldenEye_ (qv)\\\" is stolen. James Bond sets out to stop a Russian crime syndicate from using the weapon.\",\n",
      "        \"genres\": \"Action, Adventure, Thriller\",\n",
      "        \"year\": \"1995\",\n",
      "        \"rating\": \"7.2\",\n",
      "        \"directors\": \"Martin Campbell\",\n",
      "        \"cast\": \"Pierce Brosnan, Sean Bean, Izabella Scorupco, Famke Janssen, Joe Don Baker, Judi Dench, Robbie Coltrane, Tchéky Karyo, Gottfried John, Alan Cumming, Desmond Llewelyn, Samantha Bond, Michael Kitchen, Serena Gordon, Simon Kunz, Pavel Douglas, Olivier Lajous, Billy J. Mitchell, Constantine Gregory, Minnie Driver, Michelle Arthur, Ravil Isyanov, Vladimir Milanovich, Trevor Byfield, Peter Majer, Paul Bannon, Simone Bechtel, Martin Campbell, Mark Chapman, Kenneth Coombs, Simon Crane, Terrance Denville, Ian Durrant, Max Faulkner, Juliet Forester, Stefan Kopiecki, Jo Anna Lee, Derek Lyons, Wayne Michaels, Bhasker Patel, Paul Sacks, Michael G. Wilson\",\n",
      "        \"dbpedia_uri\": \"http://dbpedia.org/resource/GoldenEye\",\n"
     ]
    }
   ]
  },
  {
   "cell_type": "markdown",
   "metadata": {
    "id": "NrGycV8NxkwF"
   },
   "source": [
    "### Check users file\n",
    "In this example, the file containing users info is a CSV file where the first column is the *user id*, while the other columns are side information for that user (*gender, occupation, zip code*)"
   ]
  },
  {
   "cell_type": "code",
   "metadata": {
    "colab": {
     "base_uri": "https://localhost:8080/"
    },
    "id": "vUKLNAnMxEnh",
    "outputId": "523bac66-81c0-4592-ad8c-f5956be7af13"
   },
   "source": [
    "with open(\"users_info.csv\", \"r\") as f:\n",
    "\n",
    "  # print the header and the first 2 entries\n",
    "  for _ in range(3):\n",
    "    print(f.readline(), end='')"
   ],
   "execution_count": 6,
   "outputs": [
    {
     "output_type": "stream",
     "name": "stdout",
     "text": [
      "user_id,age,gender,occupation,zip_code\n",
      "1,24,M,technician,85711\n",
      "2,53,F,other,94043\n"
     ]
    }
   ]
  },
  {
   "cell_type": "markdown",
   "metadata": {
    "id": "dteEOqLxkDGR"
   },
   "source": [
    "<a name=\"cell-id\"></a>\n",
    "### Check ratings\n",
    "In this example, the file containing the interactions between the users and the movies is a CSV, where every interaction is a rating in the **[1, 5]** Likert scale"
   ]
  },
  {
   "cell_type": "code",
   "metadata": {
    "colab": {
     "base_uri": "https://localhost:8080/",
     "height": 424
    },
    "id": "Q3FvQsaIkbtz",
    "outputId": "21a40b87-03e7-440f-b26c-6fdc72107187"
   },
   "source": [
    "import pandas as pd\n",
    "\n",
    "pd.read_csv('ratings.csv')"
   ],
   "execution_count": 7,
   "outputs": [
    {
     "output_type": "execute_result",
     "data": {
      "text/plain": [
       "       user_id  item_id  rating  timestamp\n",
       "0          196      242       3  881250949\n",
       "1          186      302       3  891717742\n",
       "2           22      377       1  878887116\n",
       "3          244       51       2  880606923\n",
       "4          166      346       1  886397596\n",
       "...        ...      ...     ...        ...\n",
       "99995      880      476       3  880175444\n",
       "99996      716      204       5  879795543\n",
       "99997      276     1090       1  874795795\n",
       "99998       13      225       2  882399156\n",
       "99999       12      203       3  879959583\n",
       "\n",
       "[100000 rows x 4 columns]"
      ],
      "text/html": [
       "\n",
       "  <div id=\"df-e4fa40bb-7444-440e-9156-1e8be944dabf\">\n",
       "    <div class=\"colab-df-container\">\n",
       "      <div>\n",
       "<style scoped>\n",
       "    .dataframe tbody tr th:only-of-type {\n",
       "        vertical-align: middle;\n",
       "    }\n",
       "\n",
       "    .dataframe tbody tr th {\n",
       "        vertical-align: top;\n",
       "    }\n",
       "\n",
       "    .dataframe thead th {\n",
       "        text-align: right;\n",
       "    }\n",
       "</style>\n",
       "<table border=\"1\" class=\"dataframe\">\n",
       "  <thead>\n",
       "    <tr style=\"text-align: right;\">\n",
       "      <th></th>\n",
       "      <th>user_id</th>\n",
       "      <th>item_id</th>\n",
       "      <th>rating</th>\n",
       "      <th>timestamp</th>\n",
       "    </tr>\n",
       "  </thead>\n",
       "  <tbody>\n",
       "    <tr>\n",
       "      <th>0</th>\n",
       "      <td>196</td>\n",
       "      <td>242</td>\n",
       "      <td>3</td>\n",
       "      <td>881250949</td>\n",
       "    </tr>\n",
       "    <tr>\n",
       "      <th>1</th>\n",
       "      <td>186</td>\n",
       "      <td>302</td>\n",
       "      <td>3</td>\n",
       "      <td>891717742</td>\n",
       "    </tr>\n",
       "    <tr>\n",
       "      <th>2</th>\n",
       "      <td>22</td>\n",
       "      <td>377</td>\n",
       "      <td>1</td>\n",
       "      <td>878887116</td>\n",
       "    </tr>\n",
       "    <tr>\n",
       "      <th>3</th>\n",
       "      <td>244</td>\n",
       "      <td>51</td>\n",
       "      <td>2</td>\n",
       "      <td>880606923</td>\n",
       "    </tr>\n",
       "    <tr>\n",
       "      <th>4</th>\n",
       "      <td>166</td>\n",
       "      <td>346</td>\n",
       "      <td>1</td>\n",
       "      <td>886397596</td>\n",
       "    </tr>\n",
       "    <tr>\n",
       "      <th>...</th>\n",
       "      <td>...</td>\n",
       "      <td>...</td>\n",
       "      <td>...</td>\n",
       "      <td>...</td>\n",
       "    </tr>\n",
       "    <tr>\n",
       "      <th>99995</th>\n",
       "      <td>880</td>\n",
       "      <td>476</td>\n",
       "      <td>3</td>\n",
       "      <td>880175444</td>\n",
       "    </tr>\n",
       "    <tr>\n",
       "      <th>99996</th>\n",
       "      <td>716</td>\n",
       "      <td>204</td>\n",
       "      <td>5</td>\n",
       "      <td>879795543</td>\n",
       "    </tr>\n",
       "    <tr>\n",
       "      <th>99997</th>\n",
       "      <td>276</td>\n",
       "      <td>1090</td>\n",
       "      <td>1</td>\n",
       "      <td>874795795</td>\n",
       "    </tr>\n",
       "    <tr>\n",
       "      <th>99998</th>\n",
       "      <td>13</td>\n",
       "      <td>225</td>\n",
       "      <td>2</td>\n",
       "      <td>882399156</td>\n",
       "    </tr>\n",
       "    <tr>\n",
       "      <th>99999</th>\n",
       "      <td>12</td>\n",
       "      <td>203</td>\n",
       "      <td>3</td>\n",
       "      <td>879959583</td>\n",
       "    </tr>\n",
       "  </tbody>\n",
       "</table>\n",
       "<p>100000 rows × 4 columns</p>\n",
       "</div>\n",
       "      <button class=\"colab-df-convert\" onclick=\"convertToInteractive('df-e4fa40bb-7444-440e-9156-1e8be944dabf')\"\n",
       "              title=\"Convert this dataframe to an interactive table.\"\n",
       "              style=\"display:none;\">\n",
       "        \n",
       "  <svg xmlns=\"http://www.w3.org/2000/svg\" height=\"24px\"viewBox=\"0 0 24 24\"\n",
       "       width=\"24px\">\n",
       "    <path d=\"M0 0h24v24H0V0z\" fill=\"none\"/>\n",
       "    <path d=\"M18.56 5.44l.94 2.06.94-2.06 2.06-.94-2.06-.94-.94-2.06-.94 2.06-2.06.94zm-11 1L8.5 8.5l.94-2.06 2.06-.94-2.06-.94L8.5 2.5l-.94 2.06-2.06.94zm10 10l.94 2.06.94-2.06 2.06-.94-2.06-.94-.94-2.06-.94 2.06-2.06.94z\"/><path d=\"M17.41 7.96l-1.37-1.37c-.4-.4-.92-.59-1.43-.59-.52 0-1.04.2-1.43.59L10.3 9.45l-7.72 7.72c-.78.78-.78 2.05 0 2.83L4 21.41c.39.39.9.59 1.41.59.51 0 1.02-.2 1.41-.59l7.78-7.78 2.81-2.81c.8-.78.8-2.07 0-2.86zM5.41 20L4 18.59l7.72-7.72 1.47 1.35L5.41 20z\"/>\n",
       "  </svg>\n",
       "      </button>\n",
       "      \n",
       "  <style>\n",
       "    .colab-df-container {\n",
       "      display:flex;\n",
       "      flex-wrap:wrap;\n",
       "      gap: 12px;\n",
       "    }\n",
       "\n",
       "    .colab-df-convert {\n",
       "      background-color: #E8F0FE;\n",
       "      border: none;\n",
       "      border-radius: 50%;\n",
       "      cursor: pointer;\n",
       "      display: none;\n",
       "      fill: #1967D2;\n",
       "      height: 32px;\n",
       "      padding: 0 0 0 0;\n",
       "      width: 32px;\n",
       "    }\n",
       "\n",
       "    .colab-df-convert:hover {\n",
       "      background-color: #E2EBFA;\n",
       "      box-shadow: 0px 1px 2px rgba(60, 64, 67, 0.3), 0px 1px 3px 1px rgba(60, 64, 67, 0.15);\n",
       "      fill: #174EA6;\n",
       "    }\n",
       "\n",
       "    [theme=dark] .colab-df-convert {\n",
       "      background-color: #3B4455;\n",
       "      fill: #D2E3FC;\n",
       "    }\n",
       "\n",
       "    [theme=dark] .colab-df-convert:hover {\n",
       "      background-color: #434B5C;\n",
       "      box-shadow: 0px 1px 3px 1px rgba(0, 0, 0, 0.15);\n",
       "      filter: drop-shadow(0px 1px 2px rgba(0, 0, 0, 0.3));\n",
       "      fill: #FFFFFF;\n",
       "    }\n",
       "  </style>\n",
       "\n",
       "      <script>\n",
       "        const buttonEl =\n",
       "          document.querySelector('#df-e4fa40bb-7444-440e-9156-1e8be944dabf button.colab-df-convert');\n",
       "        buttonEl.style.display =\n",
       "          google.colab.kernel.accessAllowed ? 'block' : 'none';\n",
       "\n",
       "        async function convertToInteractive(key) {\n",
       "          const element = document.querySelector('#df-e4fa40bb-7444-440e-9156-1e8be944dabf');\n",
       "          const dataTable =\n",
       "            await google.colab.kernel.invokeFunction('convertToInteractive',\n",
       "                                                     [key], {});\n",
       "          if (!dataTable) return;\n",
       "\n",
       "          const docLinkHtml = 'Like what you see? Visit the ' +\n",
       "            '<a target=\"_blank\" href=https://colab.research.google.com/notebooks/data_table.ipynb>data table notebook</a>'\n",
       "            + ' to learn more about interactive tables.';\n",
       "          element.innerHTML = '';\n",
       "          dataTable['output_type'] = 'display_data';\n",
       "          await google.colab.output.renderOutput(dataTable, element);\n",
       "          const docLink = document.createElement('div');\n",
       "          docLink.innerHTML = docLinkHtml;\n",
       "          element.appendChild(docLink);\n",
       "        }\n",
       "      </script>\n",
       "    </div>\n",
       "  </div>\n",
       "  "
      ]
     },
     "metadata": {},
     "execution_count": 7
    }
   ]
  },
  {
   "cell_type": "markdown",
   "metadata": {
    "id": "ilGpvNnPgHay"
   },
   "source": [
    "# Content Analyzer: representation of Items\n",
    "In order to define the *item representation*, the following parameters should be defined:\n",
    "*   ***source***: the path of the file containing items info\n",
    "*   ***id***: the field that uniquely identifies an item\n",
    "*   ***output_directory***: the path where serialized representations are saved\n",
    "\n"
   ]
  },
  {
   "cell_type": "code",
   "metadata": {
    "id": "gORk6J3wqJGB"
   },
   "source": [
    "# Configuration of item representation\n",
    "movies_ca_config = ca.ItemAnalyzerConfig(\n",
    "    source=ca.JSONFile('items_info.json'),\n",
    "    id='movielens_id',\n",
    "    output_directory='movies_codified/',\n",
    ")"
   ],
   "execution_count": 8,
   "outputs": []
  },
  {
   "cell_type": "markdown",
   "metadata": {
    "id": "YfnkSpfTjuDq"
   },
   "source": [
    "<a name=\"ca_id\"></a>\n",
    "Each item can be represented using a set of fields.\n",
    "Every field can be **represented** using several techniques, such as *'tfidf'*, *'entity linking'*, *'embeddings'*, etc.\n",
    "\n",
    "It is possible to process the content of each field using a **Natural Language Processing (NLP) pipeline**. \n",
    "\n",
    "> In the following example, we **expand** every item by retrieving its properties from **DBPedia**\n"
   ]
  },
  {
   "cell_type": "markdown",
   "metadata": {
    "id": "5J_ayHLdQJxb"
   },
   "source": [
    "In order to do that, we call the `add_single_exogenous()` method *(or `add_multiple_exogenous()` in case of multiple exogenous techniques)* and pass the DBPediaMappingTechnique object:\n",
    "\n",
    "*   The **first parameter** is the entity type of every content (*dbo:Film* in this case). Multiple prefixes such as `rdf`, `rdfs`, `foaf`, `dbo` are imported by default, but if you need another type of entity you can pass its uri directly\\\n",
    "`\n",
    "'dbo:Film' <-EQUIVALENT-> '<http://dbpedia.org/ontology/Film>'\n",
    "`\n",
    "*   The **second parameter** is the field in the raw source which must exactly match the string representation of the *rdfs:label* of the content on DBPedia"
   ]
  },
  {
   "cell_type": "code",
   "metadata": {
    "id": "YA8GfrkrqJ4S"
   },
   "source": [
    "movies_ca_config.add_single_exogenous(\n",
    "    ca.ExogenousConfig(ca.DBPediaMappingTechnique('dbo:Film', 'dbpedia_label'),\n",
    "                       id='dbpedia')\n",
    ")"
   ],
   "execution_count": 9,
   "outputs": []
  },
  {
   "cell_type": "markdown",
   "metadata": {
    "id": "0e24qhQVkXIc"
   },
   "source": [
    "At the end of the configuration step, we provide the configuration to the *'Content Analyzer'* and call the `fit()` method:\n",
    "\n",
    "*   The Content Analyzer will **represent** and **serialize** every item.\n",
    "\n"
   ]
  },
  {
   "cell_type": "code",
   "metadata": {
    "id": "yXU-Vuw2twuN",
    "colab": {
     "base_uri": "https://localhost:8080/"
    },
    "outputId": "6d65d575-63ac-4f13-8b23-cba44f5946fa"
   },
   "source": [
    "# A little slow (~18 min) since we are querying 1682 items on a public endpoint\n",
    "ca.ContentAnalyzer(config=movies_ca_config).fit()"
   ],
   "execution_count": 10,
   "outputs": [
    {
     "output_type": "stream",
     "name": "stderr",
     "text": [
      "\u001B[39mINFO\u001B[0m - Extracting exogenous properties from DBPedia\n",
      "\u001B[39mINFO\u001B[0m - Contents mapped so far: 328 of 1682 (ideal, tipically less are mapped)\n",
      "\u001B[39mINFO\u001B[0m - Contents mapped so far: 530 of 1682 (ideal, tipically less are mapped)\n",
      "\u001B[33mWARNING\u001B[0m - Timeout occurred! - 1 out of 5 possible \n",
      "The timeout counter will be reset as soon as the request goes through\n",
      "\u001B[33mWARNING\u001B[0m - Timeout occurred! - 2 out of 5 possible \n",
      "The timeout counter will be reset as soon as the request goes through\n",
      "\u001B[33mWARNING\u001B[0m - Timeout occurred! - 3 out of 5 possible \n",
      "The timeout counter will be reset as soon as the request goes through\n",
      "\u001B[33mWARNING\u001B[0m - Timeout occurred! - 4 out of 5 possible \n",
      "The timeout counter will be reset as soon as the request goes through\n",
      "\u001B[33mWARNING\u001B[0m - Timeout occurred! - 5 out of 5 possible \n",
      "The timeout counter will be reset as soon as the request goes through\n",
      "\u001B[39mINFO\u001B[0m - Contents mapped so far: 951 of 1682 (ideal, tipically less are mapped)\n",
      "\u001B[39mINFO\u001B[0m - Contents mapped so far: 1455 of 1682 (ideal, tipically less are mapped)\n",
      "\u001B[39mINFO\u001B[0m - Contents mapped in total: 1455\n",
      "\u001B[39mINFO\u001B[0m - Extracting properties for mapped contents...\n",
      "Serializing contents:  100%|██████████| 1682/1682 [00:08<00:00]\n"
     ]
    }
   ]
  },
  {
   "cell_type": "markdown",
   "metadata": {
    "id": "H_3ff69ZhFj7"
   },
   "source": [
    "# Content Analyzer: representation of Users\n",
    "In order to define the *'user representation'*, we could use the same process performed for *'item representation'*.\n",
    "\n",
    "In this example, the ID for users is the column `user_id`."
   ]
  },
  {
   "cell_type": "code",
   "metadata": {
    "id": "HhwOj4s-uzOk"
   },
   "source": [
    "# Configuration of user representation\n",
    "users_ca_config = ca.UserAnalyzerConfig(\n",
    "    ca.CSVFile('users_info.csv'),\n",
    "    id='user_id',\n",
    "    output_directory='users_codified/',\n",
    ")"
   ],
   "execution_count": 11,
   "outputs": []
  },
  {
   "cell_type": "markdown",
   "metadata": {
    "id": "GiXKJI9sZTX1"
   },
   "source": [
    "Also users can be represented with additional exogenous information.\n",
    "\n",
    "`PropertiesFromDataset()` object allows to specify which fields to use in order to expand every user info\n",
    "\n",
    "*   If no field is specified, **all fields** from the raw source will be used\n",
    "\n",
    "> In this case, we expand every user with *gender* and *occupation*"
   ]
  },
  {
   "cell_type": "code",
   "metadata": {
    "id": "hAFFM6oNZS61",
    "colab": {
     "base_uri": "https://localhost:8080/"
    },
    "outputId": "0cccd0a3-c666-4c69-e0f5-6c54b3c60656"
   },
   "source": [
    "users_ca_config.add_single_exogenous(\n",
    "    ca.ExogenousConfig(ca.PropertiesFromDataset(field_name_list=['gender', 'occupation']))\n",
    ")\n",
    "\n",
    "# Call the fit() method to create and serialize every user\n",
    "ca.ContentAnalyzer(config=users_ca_config).fit()"
   ],
   "execution_count": 12,
   "outputs": [
    {
     "output_type": "stream",
     "name": "stderr",
     "text": [
      "\u001B[39mINFO\u001B[0m - Extracting exogenous properties from local dataset\n",
      "Serializing contents:  100%|██████████| 943/943 [00:03<00:00]\n"
     ]
    }
   ]
  },
  {
   "cell_type": "markdown",
   "metadata": {
    "id": "dr0qljcRhpW6"
   },
   "source": [
    "# Recommender System: Personalized Pagerank "
   ]
  },
  {
   "cell_type": "markdown",
   "metadata": {
    "id": "Ms6kU0TEr_ps"
   },
   "source": [
    "The Recommender System module needs information about users, items and ratings. \n",
    "\n",
    "The **Ratings** class allows you to import rating from a source file (or also from an existent dataframe) into a custom object.   **If** the source file contains users (U), items (I) and ratings (R) in this order, no additional parameters are needed, **otherwise**  the mapping must be explictly specified using:\n",
    "\n",
    "*   **'user_id'** column,\n",
    "*   **'item_id'** column,\n",
    "*   **'score'** column\n",
    "\n",
    "\n",
    "\n"
   ]
  },
  {
   "cell_type": "code",
   "metadata": {
    "colab": {
     "base_uri": "https://localhost:8080/"
    },
    "id": "XjxZ9yTnvVW-",
    "outputId": "35e6b6d1-c075-48e9-dfae-58097abfa05d"
   },
   "source": [
    "ratings = ca.Ratings(ca.CSVFile('ratings.csv'))\n",
    "\n",
    "print(ratings)"
   ],
   "execution_count": 13,
   "outputs": [
    {
     "output_type": "stream",
     "name": "stderr",
     "text": [
      "Importing ratings:  100%|██████████| 100000/100000 [00:01<00:00]\n"
     ]
    },
    {
     "output_type": "stream",
     "name": "stdout",
     "text": [
      "      user_id item_id  score\n",
      "0         196     242    3.0\n",
      "1         196     393    4.0\n",
      "2         196     381    4.0\n",
      "3         196     251    3.0\n",
      "4         196     655    5.0\n",
      "...       ...     ...    ...\n",
      "99995     941     919    5.0\n",
      "99996     941     273    3.0\n",
      "99997     941       1    5.0\n",
      "99998     941     294    4.0\n",
      "99999     941    1007    4.0\n",
      "\n",
      "[100000 rows x 3 columns]\n"
     ]
    }
   ]
  },
  {
   "cell_type": "code",
   "metadata": {
    "id": "1SfXQx4y01u7"
   },
   "source": [
    "# (mapping by index) EQUIVALENT:\n",
    "#\n",
    "# ratings = ca.Ratings(\n",
    "#     ca.CSVFile('ratings.csv'),\n",
    "#     user_id_column=0,\n",
    "#     item_id_column=1,\n",
    "#     score_column=2\n",
    "# )"
   ],
   "execution_count": 14,
   "outputs": []
  },
  {
   "cell_type": "code",
   "metadata": {
    "id": "Ww9kKa3608pK"
   },
   "source": [
    "# (mapping by column name) EQUIVALENT:\n",
    "\n",
    "# ratings = ca.Ratings(\n",
    "#     ca.CSVFile('ratings.csv'),\n",
    "#     user_id_column='user_id',\n",
    "#     item_id_column='item_id',\n",
    "#     score_column='rating'\n",
    "# )"
   ],
   "execution_count": 15,
   "outputs": []
  },
  {
   "cell_type": "markdown",
   "metadata": {
    "id": "lfwhYnzxLZT2"
   },
   "source": [
    "Ratings imported are used to create a **Full Graph** where property nodes (e.g. *gender* for users, *budget* for movies) can be linked to every node without any restriction\n",
    "\n",
    "> The framework also allows to create a **Bipartite Graph** (a graph without property node) and a **Tripartite Graph** (where property nodes are only linked to item nodes)\n",
    "\n",
    "In order to load properties in the graph, we must specify where users and items are serialized and ***which properties to add*** (the following is the same for *item_exo_properties*):\n",
    "\n",
    "*   If *user_exo_properties* is specified as a **set**, then the graph will try to load **all properties** from **said exogenous representation**\n",
    "```python\n",
    "# example\n",
    "{'my_exo_id'}\n",
    "```\n",
    "\n",
    "*   If *user_exo_properties* is specified as a **dict**, then the graph will try to load **said properties** from **said exogenous representation**\n",
    "```python\n",
    "# example\n",
    "{'my_exo_id': ['my_prop1', 'my_prop2']]}\n",
    "```\n",
    "\n",
    "Let's now create the graph loading all properties from the exogenous representations we created earlier:"
   ]
  },
  {
   "cell_type": "code",
   "source": [
    "full_graph = rs.NXFullGraph(ratings, \n",
    "                            user_contents_dir='users_codified/',\n",
    "                            item_contents_dir='movies_codified/',\n",
    "                            user_exo_properties={0}, # Since no custom id given\n",
    "                            item_exo_properties={'dbpedia'},\n",
    "                            link_label='score')"
   ],
   "metadata": {
    "colab": {
     "base_uri": "https://localhost:8080/"
    },
    "id": "LMEAT-6NBvuB",
    "outputId": "f3477f9e-4dc4-41a6-f291-23d4bc21645b"
   },
   "execution_count": 16,
   "outputs": [
    {
     "output_type": "stream",
     "name": "stderr",
     "text": [
      "Creating User->Item links:  100%|██████████| 100000/100000 [00:03<00:00]\n",
      "\u001B[39mINFO\u001B[0m - Loading contents from disk...\n",
      "Creating Node->Properties links:  100%|██████████| 1682/1682 [00:00<00:00]\n",
      "\u001B[39mINFO\u001B[0m - Loading contents from disk...\n",
      "Creating Node->Properties links:  100%|██████████| 943/943 [00:00<00:00]\n"
     ]
    }
   ]
  },
  {
   "cell_type": "markdown",
   "metadata": {
    "id": "Ex2Hh_7ORCjg"
   },
   "source": [
    "The underlying implementation of graphs in the framework uses the **networkx** library: so let's use its methods to draw a subgraph, just to make sure the graph has been created\n",
    "\n",
    "\n",
    "> We draw the the *interaction* between **user 308** and **Item 1** (Toy Story), as well as the *occupation* and *gender* properties of the user and the *runtime* property of the item\n",
    "\n"
   ]
  },
  {
   "cell_type": "code",
   "metadata": {
    "id": "69YOJeT-mb0o",
    "colab": {
     "base_uri": "https://localhost:8080/",
     "height": 961
    },
    "outputId": "31948ee8-9ea8-47c1-c7b0-e30117758eea"
   },
   "source": [
    "import networkx as nx\n",
    "import matplotlib.pyplot as plt\n",
    "\n",
    "# convert graph to networkx\n",
    "networkx_graph = full_graph.to_networkx()\n",
    "\n",
    "plt.figure(3,figsize=(12,12)) \n",
    "H = nx.subgraph(networkx_graph, [rs.ItemNode(\"1\"), rs.PropertyNode(\"81.0\"),\n",
    "                                 rs.UserNode(\"308\"), rs.PropertyNode(\"retired\"),\n",
    "                                 rs.PropertyNode(\"M\")])\n",
    "\n",
    "pos = nx.planar_layout(H)\n",
    "\n",
    "nx.draw_networkx(H, with_labels=True, font_weight='light', node_color='lightblue', node_size=2500, pos=pos)\n",
    "\n",
    "edge_labels = dict([((n1, n2), (d['label'], d.get('weight')))\n",
    "                    for n1, n2, d in H.edges(data=True)])\n",
    "\n",
    "nx.draw_networkx_edge_labels(H, pos, edge_labels=edge_labels,\n",
    "                             font_color='red', font_size=12, font_weight='normal')\n",
    "\n",
    "plt.show()"
   ],
   "execution_count": 23,
   "outputs": [
    {
     "output_type": "display_data",
     "data": {
      "text/plain": [
       "<Figure size 1200x1200 with 1 Axes>"
      ],
      "image/png": "[encoded data removed]"
     },
     "metadata": {}
    }
   ]
  },
  {
   "cell_type": "markdown",
   "source": [
    "As you can see each link between nodes has two *attributes* wrapped in a tuple:\n",
    "* The first element is the ***label*** of the link\n",
    "* The second element is the ***weight*** of the link\n",
    "\n",
    "In our case only links between users and items have a weight associated to them\n",
    "* This behaviour can be easily modified when adding new links"
   ],
   "metadata": {
    "id": "hCoGsQMECMBV"
   }
  },
  {
   "cell_type": "markdown",
   "metadata": {
    "id": "O9dYu-H9uUa5"
   },
   "source": [
    "The Recommender System also needs an algorithm for ranking or predicting items to users. In the following example we use the **Personalized PageRank** algorithm.\n"
   ]
  },
  {
   "cell_type": "code",
   "metadata": {
    "id": "GbblAapgmOL6"
   },
   "source": [
    "pr = rs.NXPageRank(personalized=True)"
   ],
   "execution_count": 24,
   "outputs": []
  },
  {
   "cell_type": "markdown",
   "metadata": {
    "id": "CIQtO-Ah1Ty8"
   },
   "source": [
    "The Graph Based Recommender System only needs the recommendation algorithm and the graph. No contents directory is required."
   ]
  },
  {
   "cell_type": "code",
   "metadata": {
    "id": "2z88KA1D1Xni"
   },
   "source": [
    "gbrs = rs.GraphBasedRS(pr, full_graph)"
   ],
   "execution_count": 25,
   "outputs": []
  },
  {
   "cell_type": "markdown",
   "metadata": {
    "id": "3UdiSzE61lIb"
   },
   "source": [
    "It is possible to provide recommendations as a ranked list for a single user:"
   ]
  },
  {
   "cell_type": "code",
   "metadata": {
    "colab": {
     "base_uri": "https://localhost:8080/"
    },
    "id": "Z2IiN_MZ1wGi",
    "outputId": "5863b924-678d-43ab-b20a-dc6f664c08ca"
   },
   "source": [
    "# original ratings as test set since it makes no difference in this case:\n",
    "# with methodology=None all unrated items for user u3 will be computed \n",
    "# except those present in its profile\n",
    "rank = gbrs.rank(ratings, user_id_list=['3'], n_recs=10, methodology=None)"
   ],
   "execution_count": 26,
   "outputs": [
    {
     "output_type": "stream",
     "name": "stderr",
     "text": [
      "Computing rank for user 3:  100%|██████████| 1/1 [00:02<00:00]\n"
     ]
    }
   ]
  },
  {
   "cell_type": "code",
   "source": [
    "print(rank)"
   ],
   "metadata": {
    "colab": {
     "base_uri": "https://localhost:8080/"
    },
    "id": "Ge3c7zKGFaSZ",
    "outputId": "edd89785-fad9-406b-a8b4-039a2657340e"
   },
   "execution_count": 27,
   "outputs": [
    {
     "output_type": "stream",
     "name": "stdout",
     "text": [
      "  user_id item_id     score\n",
      "0       3     286  0.000102\n",
      "1       3      50  0.000096\n",
      "2       3     313  0.000084\n",
      "3       3     100  0.000082\n",
      "4       3     269  0.000074\n",
      "5       3     127  0.000068\n",
      "6       3       1  0.000068\n",
      "7       3     748  0.000059\n",
      "8       3     237  0.000058\n",
      "9       3     121  0.000054\n"
     ]
    }
   ]
  },
  {
   "cell_type": "markdown",
   "metadata": {
    "id": "5YnoLveI12ql"
   },
   "source": [
    "It is also possible to provide recommendations for a list of users:"
   ]
  },
  {
   "cell_type": "code",
   "metadata": {
    "colab": {
     "base_uri": "https://localhost:8080/"
    },
    "id": "wlv2xyA21zt5",
    "outputId": "d1bea7b2-b783-4925-8397-a83b76f3a028"
   },
   "source": [
    "# original ratings as test set since it makes no difference in this case:\n",
    "# with methodology=None all unrated items for user u3 will be computed \n",
    "# except those present in its profile\n",
    "multiple_rank = gbrs.rank(ratings, user_id_list=['8', '2', '1'], n_recs=10,\n",
    "                          methodology=None)"
   ],
   "execution_count": 28,
   "outputs": [
    {
     "output_type": "stream",
     "name": "stderr",
     "text": [
      "Computing rank for user 1:  100%|██████████| 3/3 [00:03<00:00]\n"
     ]
    }
   ]
  },
  {
   "cell_type": "code",
   "source": [
    "print(multiple_rank)"
   ],
   "metadata": {
    "colab": {
     "base_uri": "https://localhost:8080/"
    },
    "id": "tdANH_GgFqWH",
    "outputId": "b57b3a7c-bea4-4e35-9ad0-4c2717bdcb83"
   },
   "execution_count": 29,
   "outputs": [
    {
     "output_type": "stream",
     "name": "stdout",
     "text": [
      "   user_id item_id     score\n",
      "0        8     286  0.000103\n",
      "1        8     300  0.000094\n",
      "2        8     288  0.000089\n",
      "3        8     313  0.000085\n",
      "4        8     100  0.000082\n",
      "5        8     269  0.000075\n",
      "6        8     302  0.000072\n",
      "7        8       1  0.000068\n",
      "8        8     328  0.000062\n",
      "9        8     748  0.000060\n",
      "10       2     181  0.000082\n",
      "11       2     328  0.000067\n",
      "12       2     748  0.000064\n",
      "13       2     333  0.000059\n",
      "14       2     121  0.000059\n",
      "15       2       7  0.000059\n",
      "16       2     117  0.000058\n",
      "17       2     268  0.000057\n",
      "18       2     174  0.000057\n",
      "19       2     222  0.000057\n",
      "20       1     286  0.000108\n",
      "21       1     300  0.000098\n",
      "22       1     288  0.000093\n",
      "23       1     294  0.000089\n",
      "24       1     313  0.000089\n",
      "25       1     302  0.000075\n",
      "26       1     328  0.000065\n",
      "27       1     748  0.000063\n",
      "28       1     333  0.000058\n",
      "29       1     289  0.000052\n"
     ]
    }
   ]
  },
  {
   "cell_type": "markdown",
   "source": [
    "Now let's build the ranking list for each user with two different methodologies:\n",
    "\n",
    "> For each target user **u**, the following 4 different methodologies are available for defining those lists:\n",
    "1.   **TestRatings** (default): the list of items to be evaluated consists of items rated by u in the test set\n",
    "2.   **TestItems**: every item in the test set of every user except those in the training set of the target user will be predicted\n",
    "3.   **TrainingItems**: every item in the training set of every user will be predicted except those in the training set of the target user\n",
    "4.   **AllItems**: the whole set of items, except those in the training set of the target user, will be predicted\n",
    "\n",
    "More information on [this paper](https://repositorio.uam.es/bitstream/handle/10486/665121/precision-oriented_bellogin_recsys_2011_ps.pdf;jsessionid=85982302D4DA9FF4DD7F21E4AC4F3391?sequence=1).\n",
    "\n",
    "In our example we test the **first** and **third** methodology."
   ],
   "metadata": {
    "id": "PQxtdoKuFveC"
   }
  },
  {
   "cell_type": "markdown",
   "source": [
    "So we first split the original ratings with **HoldOut** method:\n",
    "*   The output of the partition module are two lists. One containing one train set (in this case), the other containing one test set (in this case)"
   ],
   "metadata": {
    "id": "E_AMiwJtHzKQ"
   }
  },
  {
   "cell_type": "code",
   "metadata": {
    "colab": {
     "base_uri": "https://localhost:8080/"
    },
    "id": "HnnQpU9tlblf",
    "outputId": "01640a14-4572-4a47-e505-050c6bf80cea"
   },
   "source": [
    "# by default train_set_size = 0.8\n",
    "train_list, test_list = rs.HoldOutPartitioning(shuffle=False, random_state=42).split_all(ratings)"
   ],
   "execution_count": 30,
   "outputs": [
    {
     "output_type": "stream",
     "name": "stderr",
     "text": [
      "Performing HoldOutPartitioning:  100%|██████████| 943/943 [00:00<00:00]\n"
     ]
    }
   ]
  },
  {
   "cell_type": "markdown",
   "source": [
    "Then we save in two different lists the ranking computed using the two different methodologies:\n",
    "* `result_list_testratings` will contain ranking computed using ***TestRatings*** methodology\n",
    "* `result_list_trainitems` will contain ranking computed using ***TrainingItems*** methodology\n",
    "\n",
    "We will then evaluate them with the ***EvalModel*** class in the next chapter"
   ],
   "metadata": {
    "id": "sn8o5ogBH3Ma"
   }
  },
  {
   "cell_type": "code",
   "source": [
    "result_list_testratings = []\n",
    "result_list_trainitems = []\n",
    "\n",
    "# holdout technique return only one split, but in general this works\n",
    "# for all possible implemented partitioning techniques\n",
    "for train, test in zip(train_list, test_list):\n",
    "\n",
    "  full_graph = rs.NXFullGraph(ratings,\n",
    "                            user_contents_dir='users_codified/',\n",
    "                            item_contents_dir='movies_codified/',\n",
    "                            user_exo_properties={0}, # Since no custom id given\n",
    "                            item_exo_properties={'dbpedia'},\n",
    "                            link_label='score')\n",
    "\n",
    "  # remove interactions that appear in test set from the graph\n",
    "  for user_id, item_id in zip(test.user_id_column, test.item_id_column):\n",
    "    user_node = rs.UserNode(user_id)\n",
    "    item_node = rs.ItemNode(item_id)\n",
    "\n",
    "    full_graph.remove_link(user_node, item_node)\n",
    "\n",
    "  alg = rs.NXPageRank(personalized=True)\n",
    "  gbrs = rs.GraphBasedRS(alg, full_graph)\n",
    "\n",
    "  # n_recs=None to produce a rank score for ALL candidate items<\n",
    "  rank_testrat = gbrs.rank(test, n_recs=None)\n",
    "  # by default testratings methodology\n",
    "  rank_trainitems = gbrs.rank(test, n_recs=None, methodology=rs.TrainingItemsMethodology())\n",
    "\n",
    "  result_list_testratings.append(rank_testrat)\n",
    "  result_list_trainitems.append(rank_trainitems)"
   ],
   "metadata": {
    "colab": {
     "base_uri": "https://localhost:8080/"
    },
    "id": "kVs9od78H1iu",
    "outputId": "344f1792-d416-4048-f329-d3eac0e46887"
   },
   "execution_count": 31,
   "outputs": [
    {
     "output_type": "stream",
     "name": "stderr",
     "text": [
      "Creating User->Item links:  100%|██████████| 79619/79619 [00:01<00:00]\n",
      "\u001B[39mINFO\u001B[0m - Loading contents from disk...\n",
      "Creating Node->Properties links:  100%|██████████| 1643/1643 [00:00<00:00]\n",
      "\u001B[39mINFO\u001B[0m - Loading contents from disk...\n",
      "Creating Node->Properties links:  100%|██████████| 943/943 [00:00<00:00]\n",
      "Computing rank for user 638:  100%|██████████| 943/943 [16:42<00:00]\n",
      "Computing rank for user 638:  100%|██████████| 943/943 [15:49<00:00]\n"
     ]
    }
   ]
  },
  {
   "cell_type": "markdown",
   "metadata": {
    "id": "wBeOgvjY2ECV"
   },
   "source": [
    "# Evaluation module\n",
    "\n",
    "Recommendations can be evaluated using several metrics. In the following example, we use:\n",
    "\n",
    "*   ***Precision@10***\n",
    "*   ***Prediction Coverage***\n",
    "*   ***Gini Index***\n",
    "*   ***DeltaGap***\n",
    "*   ***Long Tail Distribution***\n",
    "*   ***Profile vs Recommendations (Popularity comparison)***\n",
    "*   ***Correlation between Popularity and Recommendation Frequency***\n",
    "\n",
    "The last three metrics return *charts*."
   ]
  },
  {
   "cell_type": "markdown",
   "metadata": {
    "id": "sDYYVUWM2hZi"
   },
   "source": [
    "The Evaluation module needs the following parameters:\n",
    "\n",
    "*   A list of computed rank/predictions (in case multiple splits must be evaluated)\n",
    "*   A list of truths (in case multiple splits must be evaluated)\n",
    "*   List of metrics to compute\n",
    "\n",
    "Obviously the list of computed rank/predictions and list of truths must have the same length, and the rank/prediction in position $i$ will be compared with the truth at position $i$\n",
    "\n",
    "Since we computed ranking with the two different methodologies, we will evaluate them both"
   ]
  },
  {
   "cell_type": "markdown",
   "source": [
    "First let's evaluate the ranking computed with **TestRatings** methodology:"
   ],
   "metadata": {
    "id": "vJfPZ-lMJon-"
   }
  },
  {
   "cell_type": "code",
   "source": [
    "# we consider as the entire catalog every item that has\n",
    "# been rated at least once by someone\n",
    "catalog = set(ratings.item_id_column)\n",
    "\n",
    "# TestRatings\n",
    "em = eva.EvalModel(\n",
    "    result_list_testratings,\n",
    "    test_list,\n",
    "    metric_list=[\n",
    "                 eva.PrecisionAtK(k=10),\n",
    "                 eva.PredictionCoverage(catalog),\n",
    "                 eva.GiniIndex(),\n",
    "                 eva.DeltaGap(user_groups={'very popular': 0.5,\n",
    "                                           'quite popular': 0.3,\n",
    "                                           'niche': 0.2},\n",
    "                              user_profiles=train,\n",
    "                              original_ratings=ratings),\n",
    "                 eva.LongTailDistr(out_dir='test_ratings/'),\n",
    "                 eva.PopRatioProfileVsRecs(user_groups={'very popular': 0.5,\n",
    "                                                        'quite popular': 0.3,\n",
    "                                                        'niche': 0.2},\n",
    "                                           user_profiles=train,\n",
    "                                           original_ratings=ratings,\n",
    "                                           out_dir='test_ratings/'),\n",
    "                 eva.PopRecsCorrelation(original_ratings=ratings,\n",
    "                                        out_dir='test_ratings/')\n",
    "                 ]\n",
    ")"
   ],
   "metadata": {
    "id": "C2UuLx9fphCb"
   },
   "execution_count": 32,
   "outputs": []
  },
  {
   "cell_type": "markdown",
   "metadata": {
    "id": "XoFTI1T83TVV"
   },
   "source": [
    "The fit() method returns two pandas DataFrame: the first one contains the metrics aggregated for the system, while the second contains the metrics computed for each user (where possible)"
   ]
  },
  {
   "cell_type": "code",
   "metadata": {
    "id": "o9QXMFl02iDK",
    "colab": {
     "base_uri": "https://localhost:8080/"
    },
    "outputId": "e9dc786f-4511-4255-b7dd-07a7e672a2c8"
   },
   "source": [
    "sys_result, users_result = em.fit()"
   ],
   "execution_count": 33,
   "outputs": [
    {
     "output_type": "stream",
     "name": "stderr",
     "text": [
      "\u001B[39mINFO\u001B[0m - Performing evaluation on metrics chosen\n",
      "Performing PopRecsCorrelation:  100%|██████████| 7/7 [00:02<00:00]\n"
     ]
    }
   ]
  },
  {
   "cell_type": "code",
   "metadata": {
    "colab": {
     "base_uri": "https://localhost:8080/",
     "height": 143
    },
    "id": "yIpALBnr4Azi",
    "outputId": "a8e92229-1549-4765-db86-9c1b50f89096"
   },
   "source": [
    "sys_result"
   ],
   "execution_count": 34,
   "outputs": [
    {
     "output_type": "execute_result",
     "data": {
      "text/plain": [
       "             Precision@10 - macro  PredictionCoverage      Gini  \\\n",
       "user_id                                                           \n",
       "sys - fold1              0.605813               82.28  0.566382   \n",
       "sys - mean               0.605813               82.28  0.566382   \n",
       "\n",
       "             DeltaGap | very popular  DeltaGap | quite popular  \\\n",
       "user_id                                                          \n",
       "sys - fold1                -0.016181                  0.012483   \n",
       "sys - mean                 -0.016181                  0.012483   \n",
       "\n",
       "             DeltaGap | niche  \n",
       "user_id                        \n",
       "sys - fold1          0.059309  \n",
       "sys - mean           0.059309  "
      ],
      "text/html": [
       "\n",
       "  <div id=\"df-c13faa1a-22b1-4c2e-88f3-9ff52fc2881e\">\n",
       "    <div class=\"colab-df-container\">\n",
       "      <div>\n",
       "<style scoped>\n",
       "    .dataframe tbody tr th:only-of-type {\n",
       "        vertical-align: middle;\n",
       "    }\n",
       "\n",
       "    .dataframe tbody tr th {\n",
       "        vertical-align: top;\n",
       "    }\n",
       "\n",
       "    .dataframe thead th {\n",
       "        text-align: right;\n",
       "    }\n",
       "</style>\n",
       "<table border=\"1\" class=\"dataframe\">\n",
       "  <thead>\n",
       "    <tr style=\"text-align: right;\">\n",
       "      <th></th>\n",
       "      <th>Precision@10 - macro</th>\n",
       "      <th>PredictionCoverage</th>\n",
       "      <th>Gini</th>\n",
       "      <th>DeltaGap | very popular</th>\n",
       "      <th>DeltaGap | quite popular</th>\n",
       "      <th>DeltaGap | niche</th>\n",
       "    </tr>\n",
       "    <tr>\n",
       "      <th>user_id</th>\n",
       "      <th></th>\n",
       "      <th></th>\n",
       "      <th></th>\n",
       "      <th></th>\n",
       "      <th></th>\n",
       "      <th></th>\n",
       "    </tr>\n",
       "  </thead>\n",
       "  <tbody>\n",
       "    <tr>\n",
       "      <th>sys - fold1</th>\n",
       "      <td>0.605813</td>\n",
       "      <td>82.28</td>\n",
       "      <td>0.566382</td>\n",
       "      <td>-0.016181</td>\n",
       "      <td>0.012483</td>\n",
       "      <td>0.059309</td>\n",
       "    </tr>\n",
       "    <tr>\n",
       "      <th>sys - mean</th>\n",
       "      <td>0.605813</td>\n",
       "      <td>82.28</td>\n",
       "      <td>0.566382</td>\n",
       "      <td>-0.016181</td>\n",
       "      <td>0.012483</td>\n",
       "      <td>0.059309</td>\n",
       "    </tr>\n",
       "  </tbody>\n",
       "</table>\n",
       "</div>\n",
       "      <button class=\"colab-df-convert\" onclick=\"convertToInteractive('df-c13faa1a-22b1-4c2e-88f3-9ff52fc2881e')\"\n",
       "              title=\"Convert this dataframe to an interactive table.\"\n",
       "              style=\"display:none;\">\n",
       "        \n",
       "  <svg xmlns=\"http://www.w3.org/2000/svg\" height=\"24px\"viewBox=\"0 0 24 24\"\n",
       "       width=\"24px\">\n",
       "    <path d=\"M0 0h24v24H0V0z\" fill=\"none\"/>\n",
       "    <path d=\"M18.56 5.44l.94 2.06.94-2.06 2.06-.94-2.06-.94-.94-2.06-.94 2.06-2.06.94zm-11 1L8.5 8.5l.94-2.06 2.06-.94-2.06-.94L8.5 2.5l-.94 2.06-2.06.94zm10 10l.94 2.06.94-2.06 2.06-.94-2.06-.94-.94-2.06-.94 2.06-2.06.94z\"/><path d=\"M17.41 7.96l-1.37-1.37c-.4-.4-.92-.59-1.43-.59-.52 0-1.04.2-1.43.59L10.3 9.45l-7.72 7.72c-.78.78-.78 2.05 0 2.83L4 21.41c.39.39.9.59 1.41.59.51 0 1.02-.2 1.41-.59l7.78-7.78 2.81-2.81c.8-.78.8-2.07 0-2.86zM5.41 20L4 18.59l7.72-7.72 1.47 1.35L5.41 20z\"/>\n",
       "  </svg>\n",
       "      </button>\n",
       "      \n",
       "  <style>\n",
       "    .colab-df-container {\n",
       "      display:flex;\n",
       "      flex-wrap:wrap;\n",
       "      gap: 12px;\n",
       "    }\n",
       "\n",
       "    .colab-df-convert {\n",
       "      background-color: #E8F0FE;\n",
       "      border: none;\n",
       "      border-radius: 50%;\n",
       "      cursor: pointer;\n",
       "      display: none;\n",
       "      fill: #1967D2;\n",
       "      height: 32px;\n",
       "      padding: 0 0 0 0;\n",
       "      width: 32px;\n",
       "    }\n",
       "\n",
       "    .colab-df-convert:hover {\n",
       "      background-color: #E2EBFA;\n",
       "      box-shadow: 0px 1px 2px rgba(60, 64, 67, 0.3), 0px 1px 3px 1px rgba(60, 64, 67, 0.15);\n",
       "      fill: #174EA6;\n",
       "    }\n",
       "\n",
       "    [theme=dark] .colab-df-convert {\n",
       "      background-color: #3B4455;\n",
       "      fill: #D2E3FC;\n",
       "    }\n",
       "\n",
       "    [theme=dark] .colab-df-convert:hover {\n",
       "      background-color: #434B5C;\n",
       "      box-shadow: 0px 1px 3px 1px rgba(0, 0, 0, 0.15);\n",
       "      filter: drop-shadow(0px 1px 2px rgba(0, 0, 0, 0.3));\n",
       "      fill: #FFFFFF;\n",
       "    }\n",
       "  </style>\n",
       "\n",
       "      <script>\n",
       "        const buttonEl =\n",
       "          document.querySelector('#df-c13faa1a-22b1-4c2e-88f3-9ff52fc2881e button.colab-df-convert');\n",
       "        buttonEl.style.display =\n",
       "          google.colab.kernel.accessAllowed ? 'block' : 'none';\n",
       "\n",
       "        async function convertToInteractive(key) {\n",
       "          const element = document.querySelector('#df-c13faa1a-22b1-4c2e-88f3-9ff52fc2881e');\n",
       "          const dataTable =\n",
       "            await google.colab.kernel.invokeFunction('convertToInteractive',\n",
       "                                                     [key], {});\n",
       "          if (!dataTable) return;\n",
       "\n",
       "          const docLinkHtml = 'Like what you see? Visit the ' +\n",
       "            '<a target=\"_blank\" href=https://colab.research.google.com/notebooks/data_table.ipynb>data table notebook</a>'\n",
       "            + ' to learn more about interactive tables.';\n",
       "          element.innerHTML = '';\n",
       "          dataTable['output_type'] = 'display_data';\n",
       "          await google.colab.output.renderOutput(dataTable, element);\n",
       "          const docLink = document.createElement('div');\n",
       "          docLink.innerHTML = docLinkHtml;\n",
       "          element.appendChild(docLink);\n",
       "        }\n",
       "      </script>\n",
       "    </div>\n",
       "  </div>\n",
       "  "
      ]
     },
     "metadata": {},
     "execution_count": 34
    }
   ]
  },
  {
   "cell_type": "code",
   "metadata": {
    "colab": {
     "base_uri": "https://localhost:8080/",
     "height": 455
    },
    "id": "R_-unvKt4BzC",
    "outputId": "17d321f2-e59d-4f30-f183-cf1514ccb392"
   },
   "source": [
    "users_result"
   ],
   "execution_count": 35,
   "outputs": [
    {
     "output_type": "execute_result",
     "data": {
      "text/plain": [
       "         Precision@10 - macro\n",
       "user_id                      \n",
       "1                    1.000000\n",
       "10                   0.500000\n",
       "100                  0.700000\n",
       "101                  0.800000\n",
       "102                  0.700000\n",
       "...                       ...\n",
       "95                   0.800000\n",
       "96                   0.500000\n",
       "97                   0.500000\n",
       "98                   0.666667\n",
       "99                   0.700000\n",
       "\n",
       "[943 rows x 1 columns]"
      ],
      "text/html": [
       "\n",
       "  <div id=\"df-5c11365f-3e24-4335-90f2-2cb09c104ce2\">\n",
       "    <div class=\"colab-df-container\">\n",
       "      <div>\n",
       "<style scoped>\n",
       "    .dataframe tbody tr th:only-of-type {\n",
       "        vertical-align: middle;\n",
       "    }\n",
       "\n",
       "    .dataframe tbody tr th {\n",
       "        vertical-align: top;\n",
       "    }\n",
       "\n",
       "    .dataframe thead th {\n",
       "        text-align: right;\n",
       "    }\n",
       "</style>\n",
       "<table border=\"1\" class=\"dataframe\">\n",
       "  <thead>\n",
       "    <tr style=\"text-align: right;\">\n",
       "      <th></th>\n",
       "      <th>Precision@10 - macro</th>\n",
       "    </tr>\n",
       "    <tr>\n",
       "      <th>user_id</th>\n",
       "      <th></th>\n",
       "    </tr>\n",
       "  </thead>\n",
       "  <tbody>\n",
       "    <tr>\n",
       "      <th>1</th>\n",
       "      <td>1.000000</td>\n",
       "    </tr>\n",
       "    <tr>\n",
       "      <th>10</th>\n",
       "      <td>0.500000</td>\n",
       "    </tr>\n",
       "    <tr>\n",
       "      <th>100</th>\n",
       "      <td>0.700000</td>\n",
       "    </tr>\n",
       "    <tr>\n",
       "      <th>101</th>\n",
       "      <td>0.800000</td>\n",
       "    </tr>\n",
       "    <tr>\n",
       "      <th>102</th>\n",
       "      <td>0.700000</td>\n",
       "    </tr>\n",
       "    <tr>\n",
       "      <th>...</th>\n",
       "      <td>...</td>\n",
       "    </tr>\n",
       "    <tr>\n",
       "      <th>95</th>\n",
       "      <td>0.800000</td>\n",
       "    </tr>\n",
       "    <tr>\n",
       "      <th>96</th>\n",
       "      <td>0.500000</td>\n",
       "    </tr>\n",
       "    <tr>\n",
       "      <th>97</th>\n",
       "      <td>0.500000</td>\n",
       "    </tr>\n",
       "    <tr>\n",
       "      <th>98</th>\n",
       "      <td>0.666667</td>\n",
       "    </tr>\n",
       "    <tr>\n",
       "      <th>99</th>\n",
       "      <td>0.700000</td>\n",
       "    </tr>\n",
       "  </tbody>\n",
       "</table>\n",
       "<p>943 rows × 1 columns</p>\n",
       "</div>\n",
       "      <button class=\"colab-df-convert\" onclick=\"convertToInteractive('df-5c11365f-3e24-4335-90f2-2cb09c104ce2')\"\n",
       "              title=\"Convert this dataframe to an interactive table.\"\n",
       "              style=\"display:none;\">\n",
       "        \n",
       "  <svg xmlns=\"http://www.w3.org/2000/svg\" height=\"24px\"viewBox=\"0 0 24 24\"\n",
       "       width=\"24px\">\n",
       "    <path d=\"M0 0h24v24H0V0z\" fill=\"none\"/>\n",
       "    <path d=\"M18.56 5.44l.94 2.06.94-2.06 2.06-.94-2.06-.94-.94-2.06-.94 2.06-2.06.94zm-11 1L8.5 8.5l.94-2.06 2.06-.94-2.06-.94L8.5 2.5l-.94 2.06-2.06.94zm10 10l.94 2.06.94-2.06 2.06-.94-2.06-.94-.94-2.06-.94 2.06-2.06.94z\"/><path d=\"M17.41 7.96l-1.37-1.37c-.4-.4-.92-.59-1.43-.59-.52 0-1.04.2-1.43.59L10.3 9.45l-7.72 7.72c-.78.78-.78 2.05 0 2.83L4 21.41c.39.39.9.59 1.41.59.51 0 1.02-.2 1.41-.59l7.78-7.78 2.81-2.81c.8-.78.8-2.07 0-2.86zM5.41 20L4 18.59l7.72-7.72 1.47 1.35L5.41 20z\"/>\n",
       "  </svg>\n",
       "      </button>\n",
       "      \n",
       "  <style>\n",
       "    .colab-df-container {\n",
       "      display:flex;\n",
       "      flex-wrap:wrap;\n",
       "      gap: 12px;\n",
       "    }\n",
       "\n",
       "    .colab-df-convert {\n",
       "      background-color: #E8F0FE;\n",
       "      border: none;\n",
       "      border-radius: 50%;\n",
       "      cursor: pointer;\n",
       "      display: none;\n",
       "      fill: #1967D2;\n",
       "      height: 32px;\n",
       "      padding: 0 0 0 0;\n",
       "      width: 32px;\n",
       "    }\n",
       "\n",
       "    .colab-df-convert:hover {\n",
       "      background-color: #E2EBFA;\n",
       "      box-shadow: 0px 1px 2px rgba(60, 64, 67, 0.3), 0px 1px 3px 1px rgba(60, 64, 67, 0.15);\n",
       "      fill: #174EA6;\n",
       "    }\n",
       "\n",
       "    [theme=dark] .colab-df-convert {\n",
       "      background-color: #3B4455;\n",
       "      fill: #D2E3FC;\n",
       "    }\n",
       "\n",
       "    [theme=dark] .colab-df-convert:hover {\n",
       "      background-color: #434B5C;\n",
       "      box-shadow: 0px 1px 3px 1px rgba(0, 0, 0, 0.15);\n",
       "      filter: drop-shadow(0px 1px 2px rgba(0, 0, 0, 0.3));\n",
       "      fill: #FFFFFF;\n",
       "    }\n",
       "  </style>\n",
       "\n",
       "      <script>\n",
       "        const buttonEl =\n",
       "          document.querySelector('#df-5c11365f-3e24-4335-90f2-2cb09c104ce2 button.colab-df-convert');\n",
       "        buttonEl.style.display =\n",
       "          google.colab.kernel.accessAllowed ? 'block' : 'none';\n",
       "\n",
       "        async function convertToInteractive(key) {\n",
       "          const element = document.querySelector('#df-5c11365f-3e24-4335-90f2-2cb09c104ce2');\n",
       "          const dataTable =\n",
       "            await google.colab.kernel.invokeFunction('convertToInteractive',\n",
       "                                                     [key], {});\n",
       "          if (!dataTable) return;\n",
       "\n",
       "          const docLinkHtml = 'Like what you see? Visit the ' +\n",
       "            '<a target=\"_blank\" href=https://colab.research.google.com/notebooks/data_table.ipynb>data table notebook</a>'\n",
       "            + ' to learn more about interactive tables.';\n",
       "          element.innerHTML = '';\n",
       "          dataTable['output_type'] = 'display_data';\n",
       "          await google.colab.output.renderOutput(dataTable, element);\n",
       "          const docLink = document.createElement('div');\n",
       "          docLink.innerHTML = docLinkHtml;\n",
       "          element.appendChild(docLink);\n",
       "        }\n",
       "      </script>\n",
       "    </div>\n",
       "  </div>\n",
       "  "
      ]
     },
     "metadata": {},
     "execution_count": 35
    }
   ]
  },
  {
   "cell_type": "markdown",
   "metadata": {
    "id": "d9Fo_2BFKHMA"
   },
   "source": [
    "The following charts are generated:"
   ]
  },
  {
   "cell_type": "code",
   "metadata": {
    "colab": {
     "base_uri": "https://localhost:8080/",
     "height": 497
    },
    "id": "6vEREXdpJfQ8",
    "outputId": "6f24538c-cdb7-4d65-8f63-d984a511a4a2"
   },
   "source": [
    "from IPython.display import Image\n",
    "Image('test_ratings/long_tail_distr_truth.png')"
   ],
   "execution_count": 36,
   "outputs": [
    {
     "output_type": "execute_result",
     "data": {
      "image/png": "[encoded data removed]",
      "text/plain": [
       "<IPython.core.display.Image object>"
      ]
     },
     "metadata": {},
     "execution_count": 36
    }
   ]
  },
  {
   "cell_type": "code",
   "metadata": {
    "colab": {
     "base_uri": "https://localhost:8080/",
     "height": 497
    },
    "id": "jpUKEjxXJfQ8",
    "outputId": "b0586942-33ff-4dde-e976-934a13b8c3ed"
   },
   "source": [
    "from IPython.display import Image\n",
    "Image('test_ratings/pop_ratio_profile_vs_recs.png')"
   ],
   "execution_count": 37,
   "outputs": [
    {
     "output_type": "execute_result",
     "data": {
      "image/png": "[encoded data removed]",
      "text/plain": [
       "<IPython.core.display.Image object>"
      ]
     },
     "metadata": {},
     "execution_count": 37
    }
   ]
  },
  {
   "cell_type": "code",
   "metadata": {
    "colab": {
     "base_uri": "https://localhost:8080/",
     "height": 497
    },
    "id": "JTiUxh--JfQ8",
    "outputId": "b882047c-3d4b-466e-d3ec-bf879ebc1861"
   },
   "source": [
    "from IPython.display import Image\n",
    "Image('test_ratings/pop_recs_correlation.png')"
   ],
   "execution_count": 38,
   "outputs": [
    {
     "output_type": "execute_result",
     "data": {
      "image/png": "[encoded data removed]",
      "text/plain": [
       "<IPython.core.display.Image object>"
      ]
     },
     "metadata": {},
     "execution_count": 38
    }
   ]
  },
  {
   "cell_type": "markdown",
   "metadata": {
    "id": "WtTS--pe8Jxp"
   },
   "source": [
    "Now we evaluate the ranking computed with the **TrainingItems** methodology on the same metrics:"
   ]
  },
  {
   "cell_type": "code",
   "metadata": {
    "colab": {
     "base_uri": "https://localhost:8080/"
    },
    "id": "2jRKeZH27Hjq",
    "outputId": "d04b76f1-8139-4fd6-9cd0-035165806ed1"
   },
   "source": [
    "# we consider as the entire catalog every item that has\n",
    "# been rated at least once by someone\n",
    "catalog = set(ratings.item_id_column)\n",
    "\n",
    "# TrainingItems\n",
    "em = eva.EvalModel(\n",
    "    result_list_trainitems,\n",
    "    test_list,\n",
    "    metric_list=[\n",
    "                 eva.PrecisionAtK(k=10),\n",
    "                 eva.PredictionCoverage(catalog),\n",
    "                 eva.GiniIndex(),\n",
    "                 eva.LongTailDistr(out_dir='train_items/'),\n",
    "                 eva.DeltaGap(user_groups={'very popular': 0.5,\n",
    "                                           'quite popular': 0.3,\n",
    "                                           'niche': 0.2},\n",
    "                              user_profiles=train,\n",
    "                              original_ratings=ratings),\n",
    "                 eva.PopRatioProfileVsRecs(user_groups={'very popular': 0.5,\n",
    "                                                        'quite popular': 0.3,\n",
    "                                                        'niche': 0.2},\n",
    "                                           user_profiles=train,\n",
    "                                           original_ratings=ratings,\n",
    "                                           out_dir='train_items/'),\n",
    "                 eva.PopRecsCorrelation(original_ratings=ratings,\n",
    "                                        out_dir='train_items/')\n",
    "                 ]\n",
    ")\n",
    "\n",
    "sys_result, users_result = em.fit()"
   ],
   "execution_count": 39,
   "outputs": [
    {
     "output_type": "stream",
     "name": "stderr",
     "text": [
      "\u001B[39mINFO\u001B[0m - Performing evaluation on metrics chosen\n",
      "Performing PopRecsCorrelation:  100%|██████████| 7/7 [00:05<00:00]\n"
     ]
    }
   ]
  },
  {
   "cell_type": "markdown",
   "metadata": {
    "id": "40-ws5O9IVWP"
   },
   "source": [
    "We expect:\n",
    "* A ***lower Precision*** since methodologies other than *TestRatings* are more truthful\n",
    "* A **Gini index closer to 0** (more equality in the recommendation lists generated) since with methodologies other than *TestRatings* the items on which a rank score must be computed are almost equal accross all users\n",
    "* **Higher Prediction Coverage** since simply more items must be ranked for each user w.r.t *TestRatings* methodology"
   ]
  },
  {
   "cell_type": "code",
   "metadata": {
    "colab": {
     "base_uri": "https://localhost:8080/",
     "height": 143
    },
    "id": "Vg0TI_Pj7-FI",
    "outputId": "0c6bbe48-9703-422c-d7b9-bd79520acf2d"
   },
   "source": [
    "sys_result"
   ],
   "execution_count": 40,
   "outputs": [
    {
     "output_type": "execute_result",
     "data": {
      "text/plain": [
       "             Precision@10 - macro  PredictionCoverage      Gini  \\\n",
       "user_id                                                           \n",
       "sys - fold1               0.10965               97.68  0.033627   \n",
       "sys - mean                0.10965               97.68  0.033627   \n",
       "\n",
       "             DeltaGap | very popular  DeltaGap | quite popular  \\\n",
       "user_id                                                          \n",
       "sys - fold1                -0.745676                  -0.69018   \n",
       "sys - mean                 -0.745676                  -0.69018   \n",
       "\n",
       "             DeltaGap | niche  \n",
       "user_id                        \n",
       "sys - fold1         -0.619491  \n",
       "sys - mean          -0.619491  "
      ],
      "text/html": [
       "\n",
       "  <div id=\"df-ee801314-8f5d-49b1-9d62-400a01fa1753\">\n",
       "    <div class=\"colab-df-container\">\n",
       "      <div>\n",
       "<style scoped>\n",
       "    .dataframe tbody tr th:only-of-type {\n",
       "        vertical-align: middle;\n",
       "    }\n",
       "\n",
       "    .dataframe tbody tr th {\n",
       "        vertical-align: top;\n",
       "    }\n",
       "\n",
       "    .dataframe thead th {\n",
       "        text-align: right;\n",
       "    }\n",
       "</style>\n",
       "<table border=\"1\" class=\"dataframe\">\n",
       "  <thead>\n",
       "    <tr style=\"text-align: right;\">\n",
       "      <th></th>\n",
       "      <th>Precision@10 - macro</th>\n",
       "      <th>PredictionCoverage</th>\n",
       "      <th>Gini</th>\n",
       "      <th>DeltaGap | very popular</th>\n",
       "      <th>DeltaGap | quite popular</th>\n",
       "      <th>DeltaGap | niche</th>\n",
       "    </tr>\n",
       "    <tr>\n",
       "      <th>user_id</th>\n",
       "      <th></th>\n",
       "      <th></th>\n",
       "      <th></th>\n",
       "      <th></th>\n",
       "      <th></th>\n",
       "      <th></th>\n",
       "    </tr>\n",
       "  </thead>\n",
       "  <tbody>\n",
       "    <tr>\n",
       "      <th>sys - fold1</th>\n",
       "      <td>0.10965</td>\n",
       "      <td>97.68</td>\n",
       "      <td>0.033627</td>\n",
       "      <td>-0.745676</td>\n",
       "      <td>-0.69018</td>\n",
       "      <td>-0.619491</td>\n",
       "    </tr>\n",
       "    <tr>\n",
       "      <th>sys - mean</th>\n",
       "      <td>0.10965</td>\n",
       "      <td>97.68</td>\n",
       "      <td>0.033627</td>\n",
       "      <td>-0.745676</td>\n",
       "      <td>-0.69018</td>\n",
       "      <td>-0.619491</td>\n",
       "    </tr>\n",
       "  </tbody>\n",
       "</table>\n",
       "</div>\n",
       "      <button class=\"colab-df-convert\" onclick=\"convertToInteractive('df-ee801314-8f5d-49b1-9d62-400a01fa1753')\"\n",
       "              title=\"Convert this dataframe to an interactive table.\"\n",
       "              style=\"display:none;\">\n",
       "        \n",
       "  <svg xmlns=\"http://www.w3.org/2000/svg\" height=\"24px\"viewBox=\"0 0 24 24\"\n",
       "       width=\"24px\">\n",
       "    <path d=\"M0 0h24v24H0V0z\" fill=\"none\"/>\n",
       "    <path d=\"M18.56 5.44l.94 2.06.94-2.06 2.06-.94-2.06-.94-.94-2.06-.94 2.06-2.06.94zm-11 1L8.5 8.5l.94-2.06 2.06-.94-2.06-.94L8.5 2.5l-.94 2.06-2.06.94zm10 10l.94 2.06.94-2.06 2.06-.94-2.06-.94-.94-2.06-.94 2.06-2.06.94z\"/><path d=\"M17.41 7.96l-1.37-1.37c-.4-.4-.92-.59-1.43-.59-.52 0-1.04.2-1.43.59L10.3 9.45l-7.72 7.72c-.78.78-.78 2.05 0 2.83L4 21.41c.39.39.9.59 1.41.59.51 0 1.02-.2 1.41-.59l7.78-7.78 2.81-2.81c.8-.78.8-2.07 0-2.86zM5.41 20L4 18.59l7.72-7.72 1.47 1.35L5.41 20z\"/>\n",
       "  </svg>\n",
       "      </button>\n",
       "      \n",
       "  <style>\n",
       "    .colab-df-container {\n",
       "      display:flex;\n",
       "      flex-wrap:wrap;\n",
       "      gap: 12px;\n",
       "    }\n",
       "\n",
       "    .colab-df-convert {\n",
       "      background-color: #E8F0FE;\n",
       "      border: none;\n",
       "      border-radius: 50%;\n",
       "      cursor: pointer;\n",
       "      display: none;\n",
       "      fill: #1967D2;\n",
       "      height: 32px;\n",
       "      padding: 0 0 0 0;\n",
       "      width: 32px;\n",
       "    }\n",
       "\n",
       "    .colab-df-convert:hover {\n",
       "      background-color: #E2EBFA;\n",
       "      box-shadow: 0px 1px 2px rgba(60, 64, 67, 0.3), 0px 1px 3px 1px rgba(60, 64, 67, 0.15);\n",
       "      fill: #174EA6;\n",
       "    }\n",
       "\n",
       "    [theme=dark] .colab-df-convert {\n",
       "      background-color: #3B4455;\n",
       "      fill: #D2E3FC;\n",
       "    }\n",
       "\n",
       "    [theme=dark] .colab-df-convert:hover {\n",
       "      background-color: #434B5C;\n",
       "      box-shadow: 0px 1px 3px 1px rgba(0, 0, 0, 0.15);\n",
       "      filter: drop-shadow(0px 1px 2px rgba(0, 0, 0, 0.3));\n",
       "      fill: #FFFFFF;\n",
       "    }\n",
       "  </style>\n",
       "\n",
       "      <script>\n",
       "        const buttonEl =\n",
       "          document.querySelector('#df-ee801314-8f5d-49b1-9d62-400a01fa1753 button.colab-df-convert');\n",
       "        buttonEl.style.display =\n",
       "          google.colab.kernel.accessAllowed ? 'block' : 'none';\n",
       "\n",
       "        async function convertToInteractive(key) {\n",
       "          const element = document.querySelector('#df-ee801314-8f5d-49b1-9d62-400a01fa1753');\n",
       "          const dataTable =\n",
       "            await google.colab.kernel.invokeFunction('convertToInteractive',\n",
       "                                                     [key], {});\n",
       "          if (!dataTable) return;\n",
       "\n",
       "          const docLinkHtml = 'Like what you see? Visit the ' +\n",
       "            '<a target=\"_blank\" href=https://colab.research.google.com/notebooks/data_table.ipynb>data table notebook</a>'\n",
       "            + ' to learn more about interactive tables.';\n",
       "          element.innerHTML = '';\n",
       "          dataTable['output_type'] = 'display_data';\n",
       "          await google.colab.output.renderOutput(dataTable, element);\n",
       "          const docLink = document.createElement('div');\n",
       "          docLink.innerHTML = docLinkHtml;\n",
       "          element.appendChild(docLink);\n",
       "        }\n",
       "      </script>\n",
       "    </div>\n",
       "  </div>\n",
       "  "
      ]
     },
     "metadata": {},
     "execution_count": 40
    }
   ]
  },
  {
   "cell_type": "code",
   "metadata": {
    "colab": {
     "base_uri": "https://localhost:8080/",
     "height": 455
    },
    "id": "DwsbtUy77_SX",
    "outputId": "c8932cb1-bc5b-48c7-8761-494027ebcf65"
   },
   "source": [
    "users_result"
   ],
   "execution_count": 41,
   "outputs": [
    {
     "output_type": "execute_result",
     "data": {
      "text/plain": [
       "         Precision@10 - macro\n",
       "user_id                      \n",
       "1                         0.1\n",
       "10                        0.0\n",
       "100                       0.1\n",
       "101                       0.0\n",
       "102                       0.3\n",
       "...                       ...\n",
       "95                        0.1\n",
       "96                        0.1\n",
       "97                        0.0\n",
       "98                        0.0\n",
       "99                        0.3\n",
       "\n",
       "[943 rows x 1 columns]"
      ],
      "text/html": [
       "\n",
       "  <div id=\"df-55c8846b-fc86-4ef8-bd4c-8e0a8289cad1\">\n",
       "    <div class=\"colab-df-container\">\n",
       "      <div>\n",
       "<style scoped>\n",
       "    .dataframe tbody tr th:only-of-type {\n",
       "        vertical-align: middle;\n",
       "    }\n",
       "\n",
       "    .dataframe tbody tr th {\n",
       "        vertical-align: top;\n",
       "    }\n",
       "\n",
       "    .dataframe thead th {\n",
       "        text-align: right;\n",
       "    }\n",
       "</style>\n",
       "<table border=\"1\" class=\"dataframe\">\n",
       "  <thead>\n",
       "    <tr style=\"text-align: right;\">\n",
       "      <th></th>\n",
       "      <th>Precision@10 - macro</th>\n",
       "    </tr>\n",
       "    <tr>\n",
       "      <th>user_id</th>\n",
       "      <th></th>\n",
       "    </tr>\n",
       "  </thead>\n",
       "  <tbody>\n",
       "    <tr>\n",
       "      <th>1</th>\n",
       "      <td>0.1</td>\n",
       "    </tr>\n",
       "    <tr>\n",
       "      <th>10</th>\n",
       "      <td>0.0</td>\n",
       "    </tr>\n",
       "    <tr>\n",
       "      <th>100</th>\n",
       "      <td>0.1</td>\n",
       "    </tr>\n",
       "    <tr>\n",
       "      <th>101</th>\n",
       "      <td>0.0</td>\n",
       "    </tr>\n",
       "    <tr>\n",
       "      <th>102</th>\n",
       "      <td>0.3</td>\n",
       "    </tr>\n",
       "    <tr>\n",
       "      <th>...</th>\n",
       "      <td>...</td>\n",
       "    </tr>\n",
       "    <tr>\n",
       "      <th>95</th>\n",
       "      <td>0.1</td>\n",
       "    </tr>\n",
       "    <tr>\n",
       "      <th>96</th>\n",
       "      <td>0.1</td>\n",
       "    </tr>\n",
       "    <tr>\n",
       "      <th>97</th>\n",
       "      <td>0.0</td>\n",
       "    </tr>\n",
       "    <tr>\n",
       "      <th>98</th>\n",
       "      <td>0.0</td>\n",
       "    </tr>\n",
       "    <tr>\n",
       "      <th>99</th>\n",
       "      <td>0.3</td>\n",
       "    </tr>\n",
       "  </tbody>\n",
       "</table>\n",
       "<p>943 rows × 1 columns</p>\n",
       "</div>\n",
       "      <button class=\"colab-df-convert\" onclick=\"convertToInteractive('df-55c8846b-fc86-4ef8-bd4c-8e0a8289cad1')\"\n",
       "              title=\"Convert this dataframe to an interactive table.\"\n",
       "              style=\"display:none;\">\n",
       "        \n",
       "  <svg xmlns=\"http://www.w3.org/2000/svg\" height=\"24px\"viewBox=\"0 0 24 24\"\n",
       "       width=\"24px\">\n",
       "    <path d=\"M0 0h24v24H0V0z\" fill=\"none\"/>\n",
       "    <path d=\"M18.56 5.44l.94 2.06.94-2.06 2.06-.94-2.06-.94-.94-2.06-.94 2.06-2.06.94zm-11 1L8.5 8.5l.94-2.06 2.06-.94-2.06-.94L8.5 2.5l-.94 2.06-2.06.94zm10 10l.94 2.06.94-2.06 2.06-.94-2.06-.94-.94-2.06-.94 2.06-2.06.94z\"/><path d=\"M17.41 7.96l-1.37-1.37c-.4-.4-.92-.59-1.43-.59-.52 0-1.04.2-1.43.59L10.3 9.45l-7.72 7.72c-.78.78-.78 2.05 0 2.83L4 21.41c.39.39.9.59 1.41.59.51 0 1.02-.2 1.41-.59l7.78-7.78 2.81-2.81c.8-.78.8-2.07 0-2.86zM5.41 20L4 18.59l7.72-7.72 1.47 1.35L5.41 20z\"/>\n",
       "  </svg>\n",
       "      </button>\n",
       "      \n",
       "  <style>\n",
       "    .colab-df-container {\n",
       "      display:flex;\n",
       "      flex-wrap:wrap;\n",
       "      gap: 12px;\n",
       "    }\n",
       "\n",
       "    .colab-df-convert {\n",
       "      background-color: #E8F0FE;\n",
       "      border: none;\n",
       "      border-radius: 50%;\n",
       "      cursor: pointer;\n",
       "      display: none;\n",
       "      fill: #1967D2;\n",
       "      height: 32px;\n",
       "      padding: 0 0 0 0;\n",
       "      width: 32px;\n",
       "    }\n",
       "\n",
       "    .colab-df-convert:hover {\n",
       "      background-color: #E2EBFA;\n",
       "      box-shadow: 0px 1px 2px rgba(60, 64, 67, 0.3), 0px 1px 3px 1px rgba(60, 64, 67, 0.15);\n",
       "      fill: #174EA6;\n",
       "    }\n",
       "\n",
       "    [theme=dark] .colab-df-convert {\n",
       "      background-color: #3B4455;\n",
       "      fill: #D2E3FC;\n",
       "    }\n",
       "\n",
       "    [theme=dark] .colab-df-convert:hover {\n",
       "      background-color: #434B5C;\n",
       "      box-shadow: 0px 1px 3px 1px rgba(0, 0, 0, 0.15);\n",
       "      filter: drop-shadow(0px 1px 2px rgba(0, 0, 0, 0.3));\n",
       "      fill: #FFFFFF;\n",
       "    }\n",
       "  </style>\n",
       "\n",
       "      <script>\n",
       "        const buttonEl =\n",
       "          document.querySelector('#df-55c8846b-fc86-4ef8-bd4c-8e0a8289cad1 button.colab-df-convert');\n",
       "        buttonEl.style.display =\n",
       "          google.colab.kernel.accessAllowed ? 'block' : 'none';\n",
       "\n",
       "        async function convertToInteractive(key) {\n",
       "          const element = document.querySelector('#df-55c8846b-fc86-4ef8-bd4c-8e0a8289cad1');\n",
       "          const dataTable =\n",
       "            await google.colab.kernel.invokeFunction('convertToInteractive',\n",
       "                                                     [key], {});\n",
       "          if (!dataTable) return;\n",
       "\n",
       "          const docLinkHtml = 'Like what you see? Visit the ' +\n",
       "            '<a target=\"_blank\" href=https://colab.research.google.com/notebooks/data_table.ipynb>data table notebook</a>'\n",
       "            + ' to learn more about interactive tables.';\n",
       "          element.innerHTML = '';\n",
       "          dataTable['output_type'] = 'display_data';\n",
       "          await google.colab.output.renderOutput(dataTable, element);\n",
       "          const docLink = document.createElement('div');\n",
       "          docLink.innerHTML = docLinkHtml;\n",
       "          element.appendChild(docLink);\n",
       "        }\n",
       "      </script>\n",
       "    </div>\n",
       "  </div>\n",
       "  "
      ]
     },
     "metadata": {},
     "execution_count": 41
    }
   ]
  },
  {
   "cell_type": "markdown",
   "metadata": {
    "id": "fZ-6QPOXJmpA"
   },
   "source": [
    "The following charts are generated:"
   ]
  },
  {
   "cell_type": "code",
   "metadata": {
    "colab": {
     "base_uri": "https://localhost:8080/",
     "height": 497
    },
    "id": "cISMk0D0JNNn",
    "outputId": "67aed8f0-a0b5-45ae-ee85-68226fa47567"
   },
   "source": [
    "# Same as TestRatings methodology since the truth is the same\n",
    "from IPython.display import Image\n",
    "Image('train_items/long_tail_distr_truth.png')"
   ],
   "execution_count": 42,
   "outputs": [
    {
     "output_type": "execute_result",
     "data": {
      "image/png": "[encoded data removed]",
      "text/plain": [
       "<IPython.core.display.Image object>"
      ]
     },
     "metadata": {},
     "execution_count": 42
    }
   ]
  },
  {
   "cell_type": "code",
   "metadata": {
    "colab": {
     "base_uri": "https://localhost:8080/",
     "height": 497
    },
    "id": "z1Wu1zZHJTgu",
    "outputId": "1bbf1e2e-cac8-4dad-c9bf-428deec012ab"
   },
   "source": [
    "from IPython.display import Image\n",
    "Image('train_items/pop_ratio_profile_vs_recs.png')"
   ],
   "execution_count": 43,
   "outputs": [
    {
     "output_type": "execute_result",
     "data": {
      "image/png": "[encoded data removed]",
      "text/plain": [
       "<IPython.core.display.Image object>"
      ]
     },
     "metadata": {},
     "execution_count": 43
    }
   ]
  },
  {
   "cell_type": "code",
   "metadata": {
    "colab": {
     "base_uri": "https://localhost:8080/",
     "height": 497
    },
    "id": "pvb2RL98JT03",
    "outputId": "d32c33e0-dcf9-4426-abba-63b12cfe7e17"
   },
   "source": [
    "from IPython.display import Image\n",
    "Image('train_items/pop_recs_correlation.png')"
   ],
   "execution_count": 44,
   "outputs": [
    {
     "output_type": "execute_result",
     "data": {
      "image/png": "[encoded data removed]",
      "text/plain": [
       "<IPython.core.display.Image object>"
      ]
     },
     "metadata": {},
     "execution_count": 44
    }
   ]
  }
 ]
}
